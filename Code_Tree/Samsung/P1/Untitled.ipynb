{
 "cells": [
  {
   "cell_type": "code",
   "execution_count": 22,
   "id": "244e4a5b-c54d-491e-8eea-554cbf2e048f",
   "metadata": {},
   "outputs": [],
   "source": [
    "a = {1 : 1, 2 : 2, 3 : 3}"
   ]
  },
  {
   "cell_type": "code",
   "execution_count": 9,
   "id": "fbd5e578-e3ed-4ac0-9cf0-108430d4c031",
   "metadata": {},
   "outputs": [],
   "source": [
    "test = list(a.values())"
   ]
  },
  {
   "cell_type": "code",
   "execution_count": 10,
   "id": "2fd425a3-f3bf-4e73-8d6c-3c30d697cc15",
   "metadata": {},
   "outputs": [
    {
     "data": {
      "text/plain": [
       "[1, 2, 3]"
      ]
     },
     "execution_count": 10,
     "metadata": {},
     "output_type": "execute_result"
    }
   ],
   "source": [
    "test"
   ]
  },
  {
   "cell_type": "code",
   "execution_count": 11,
   "id": "9aeed094-8482-44b6-8685-732dd91c732c",
   "metadata": {},
   "outputs": [],
   "source": [
    "test[0] = 100"
   ]
  },
  {
   "cell_type": "code",
   "execution_count": 12,
   "id": "68743a34-3b92-417e-9cea-8efa963de3d8",
   "metadata": {},
   "outputs": [
    {
     "data": {
      "text/plain": [
       "{1: 1, 2: 2, 3: 3}"
      ]
     },
     "execution_count": 12,
     "metadata": {},
     "output_type": "execute_result"
    }
   ],
   "source": [
    "a"
   ]
  },
  {
   "cell_type": "code",
   "execution_count": 13,
   "id": "6ff745ca-513a-49a4-8cce-d834f35df93f",
   "metadata": {},
   "outputs": [],
   "source": [
    "a = [1, 2, 3]\n",
    "b = [4, 5, 6]"
   ]
  },
  {
   "cell_type": "code",
   "execution_count": 14,
   "id": "74519bad-d050-4d04-be7c-ef4537a3fbf0",
   "metadata": {},
   "outputs": [],
   "source": [
    "a.extend(b)"
   ]
  },
  {
   "cell_type": "code",
   "execution_count": 15,
   "id": "f0b5a048-d430-450e-b49c-556fd3df5430",
   "metadata": {},
   "outputs": [],
   "source": [
    "a[4] = 100"
   ]
  },
  {
   "cell_type": "code",
   "execution_count": 16,
   "id": "8dde4ad8-a84e-4c08-93ef-d6b38336034b",
   "metadata": {},
   "outputs": [
    {
     "data": {
      "text/plain": [
       "[4, 5, 6]"
      ]
     },
     "execution_count": 16,
     "metadata": {},
     "output_type": "execute_result"
    }
   ],
   "source": [
    "b"
   ]
  },
  {
   "cell_type": "code",
   "execution_count": 17,
   "id": "382727a1-b7ad-4886-ac16-63452b075b65",
   "metadata": {},
   "outputs": [
    {
     "data": {
      "text/plain": [
       "[1, 2, 3, 4, 100, 6]"
      ]
     },
     "execution_count": 17,
     "metadata": {},
     "output_type": "execute_result"
    }
   ],
   "source": [
    "a"
   ]
  },
  {
   "cell_type": "code",
   "execution_count": 18,
   "id": "35e39a16-0308-4d74-bbbc-ef0235e8c02f",
   "metadata": {},
   "outputs": [],
   "source": [
    "c = a"
   ]
  },
  {
   "cell_type": "code",
   "execution_count": 19,
   "id": "9038dc86-8303-4294-9716-c5a6f98b31be",
   "metadata": {},
   "outputs": [],
   "source": [
    "c[0] = 1000"
   ]
  },
  {
   "cell_type": "code",
   "execution_count": 20,
   "id": "bbf63877-f7a0-40d1-8d7a-22e65d1b3efd",
   "metadata": {},
   "outputs": [
    {
     "data": {
      "text/plain": [
       "[1000, 2, 3, 4, 100, 6]"
      ]
     },
     "execution_count": 20,
     "metadata": {},
     "output_type": "execute_result"
    }
   ],
   "source": [
    "a"
   ]
  },
  {
   "cell_type": "code",
   "execution_count": 23,
   "id": "82992f57-3f3d-437b-8325-6695b12dfdbf",
   "metadata": {},
   "outputs": [],
   "source": [
    "c = a[1]"
   ]
  },
  {
   "cell_type": "code",
   "execution_count": 24,
   "id": "aa5e03bb-6044-4cb6-a425-4d14bf1b5313",
   "metadata": {},
   "outputs": [],
   "source": [
    "c = 100"
   ]
  },
  {
   "cell_type": "code",
   "execution_count": 25,
   "id": "a58e5cf8-06d0-4ce4-8171-b0e73dbb7198",
   "metadata": {},
   "outputs": [
    {
     "data": {
      "text/plain": [
       "{1: 1, 2: 2, 3: 3}"
      ]
     },
     "execution_count": 25,
     "metadata": {},
     "output_type": "execute_result"
    }
   ],
   "source": [
    "a"
   ]
  },
  {
   "cell_type": "code",
   "execution_count": 6,
   "id": "3e34358f-bdb7-4994-8e4b-bf53708e0f44",
   "metadata": {},
   "outputs": [],
   "source": [
    "class test:\n",
    "    def __init__(self):\n",
    "        self.a = 1\n",
    "    def test_method(self):\n",
    "        ans = 0\n",
    "        def test_function(depth):\n",
    "            nonlocal ans\n",
    "            if depth < 3:\n",
    "                test_function(depth+1)\n",
    "            else:\n",
    "                self.a = 4\n",
    "                ans = 4\n",
    "            return\n",
    "        test_function(0)\n",
    "        print(ans)\n"
   ]
  },
  {
   "cell_type": "code",
   "execution_count": 7,
   "id": "ced71ce4-a151-4e87-9e82-ec422ac4e224",
   "metadata": {},
   "outputs": [],
   "source": [
    "cls = test()"
   ]
  },
  {
   "cell_type": "code",
   "execution_count": 8,
   "id": "38cac6e0-07bd-4adc-b6c3-116a0d6c03bf",
   "metadata": {},
   "outputs": [
    {
     "data": {
      "text/plain": [
       "1"
      ]
     },
     "execution_count": 8,
     "metadata": {},
     "output_type": "execute_result"
    }
   ],
   "source": [
    "cls.a"
   ]
  },
  {
   "cell_type": "code",
   "execution_count": 9,
   "id": "ea992001-ee76-4c5c-ae5e-5288d49088d0",
   "metadata": {},
   "outputs": [
    {
     "name": "stdout",
     "output_type": "stream",
     "text": [
      "4\n"
     ]
    }
   ],
   "source": [
    "cls.test_method()"
   ]
  },
  {
   "cell_type": "code",
   "execution_count": 10,
   "id": "f26c36da-f578-4448-88a7-48bdb2170890",
   "metadata": {},
   "outputs": [
    {
     "data": {
      "text/plain": [
       "4"
      ]
     },
     "execution_count": 10,
     "metadata": {},
     "output_type": "execute_result"
    }
   ],
   "source": [
    "cls.a"
   ]
  },
  {
   "cell_type": "code",
   "execution_count": 1,
   "id": "b3e6cb21-d091-4de2-9852-d9d37d309d79",
   "metadata": {},
   "outputs": [],
   "source": [
    "a = {1 : 100, 2 : 200, 3 : 300}"
   ]
  },
  {
   "cell_type": "code",
   "execution_count": 4,
   "id": "ad027b5e-c446-482d-a611-08679548bc90",
   "metadata": {},
   "outputs": [],
   "source": [
    "a.get(4)"
   ]
  },
  {
   "cell_type": "code",
   "execution_count": null,
   "id": "f352e838-d140-4ea3-9a3e-13a58c6a5c5f",
   "metadata": {},
   "outputs": [],
   "source": []
  }
 ],
 "metadata": {
  "kernelspec": {
   "display_name": "Python 3 (ipykernel)",
   "language": "python",
   "name": "python3"
  },
  "language_info": {
   "codemirror_mode": {
    "name": "ipython",
    "version": 3
   },
   "file_extension": ".py",
   "mimetype": "text/x-python",
   "name": "python",
   "nbconvert_exporter": "python",
   "pygments_lexer": "ipython3",
   "version": "3.10.11"
  }
 },
 "nbformat": 4,
 "nbformat_minor": 5
}
