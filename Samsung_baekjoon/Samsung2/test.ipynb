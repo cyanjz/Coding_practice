{
 "cells": [
  {
   "cell_type": "code",
   "execution_count": 1,
   "id": "e01576e6-1387-48cb-ba83-ba40496f38c6",
   "metadata": {},
   "outputs": [],
   "source": [
    "a = [1, 2, 3]"
   ]
  },
  {
   "cell_type": "code",
   "execution_count": 3,
   "id": "06db7f70-d7cd-45c8-910c-8a25d9da44ec",
   "metadata": {},
   "outputs": [],
   "source": [
    "import sys"
   ]
  },
  {
   "cell_type": "code",
   "execution_count": 4,
   "id": "0c1528a9-a95e-4ef3-bc04-8f59fc9673d7",
   "metadata": {},
   "outputs": [
    {
     "data": {
      "text/plain": [
       "136"
      ]
     },
     "execution_count": 4,
     "metadata": {},
     "output_type": "execute_result"
    }
   ],
   "source": [
    "sys.getsizeof(a)"
   ]
  },
  {
   "cell_type": "code",
   "execution_count": 9,
   "id": "90e52691-930e-4c7e-b3dc-a92ee39e0976",
   "metadata": {},
   "outputs": [
    {
     "data": {
      "text/plain": [
       "1"
      ]
     },
     "execution_count": 9,
     "metadata": {},
     "output_type": "execute_result"
    }
   ],
   "source": [
    "a.pop()"
   ]
  },
  {
   "cell_type": "code",
   "execution_count": 10,
   "id": "cd9424e9-95ed-4615-a26d-cef596435fd6",
   "metadata": {},
   "outputs": [
    {
     "data": {
      "text/plain": [
       "[]"
      ]
     },
     "execution_count": 10,
     "metadata": {},
     "output_type": "execute_result"
    }
   ],
   "source": [
    "a"
   ]
  },
  {
   "cell_type": "code",
   "execution_count": null,
   "id": "09a12b9d-96ad-4cef-ae32-624547bd9814",
   "metadata": {},
   "outputs": [],
   "source": []
  },
  {
   "cell_type": "code",
   "execution_count": 19,
   "id": "a4199d79-aeae-4be4-9236-70165aa2aee2",
   "metadata": {},
   "outputs": [],
   "source": [
    "a = [1024] * 10"
   ]
  },
  {
   "cell_type": "code",
   "execution_count": 20,
   "id": "7795c289-e802-48ad-85da-f12489cf36f0",
   "metadata": {},
   "outputs": [],
   "source": [
    "b = [a.copy() for i in range(10)]"
   ]
  },
  {
   "cell_type": "code",
   "execution_count": 21,
   "id": "23777382-6a9c-4932-8ab7-07fa275e7e34",
   "metadata": {},
   "outputs": [],
   "source": [
    "b[0][0] = 1"
   ]
  },
  {
   "cell_type": "code",
   "execution_count": 22,
   "id": "ce32617a-eb1c-4375-8750-d5d32c1e1a48",
   "metadata": {},
   "outputs": [
    {
     "data": {
      "text/plain": [
       "[[1, 1024, 1024, 1024, 1024, 1024, 1024, 1024, 1024, 1024],\n",
       " [1024, 1024, 1024, 1024, 1024, 1024, 1024, 1024, 1024, 1024],\n",
       " [1024, 1024, 1024, 1024, 1024, 1024, 1024, 1024, 1024, 1024],\n",
       " [1024, 1024, 1024, 1024, 1024, 1024, 1024, 1024, 1024, 1024],\n",
       " [1024, 1024, 1024, 1024, 1024, 1024, 1024, 1024, 1024, 1024],\n",
       " [1024, 1024, 1024, 1024, 1024, 1024, 1024, 1024, 1024, 1024],\n",
       " [1024, 1024, 1024, 1024, 1024, 1024, 1024, 1024, 1024, 1024],\n",
       " [1024, 1024, 1024, 1024, 1024, 1024, 1024, 1024, 1024, 1024],\n",
       " [1024, 1024, 1024, 1024, 1024, 1024, 1024, 1024, 1024, 1024],\n",
       " [1024, 1024, 1024, 1024, 1024, 1024, 1024, 1024, 1024, 1024]]"
      ]
     },
     "execution_count": 22,
     "metadata": {},
     "output_type": "execute_result"
    }
   ],
   "source": [
    "b"
   ]
  },
  {
   "cell_type": "code",
   "execution_count": 23,
   "id": "f1886cf8-9438-425f-9110-655260795567",
   "metadata": {},
   "outputs": [
    {
     "data": {
      "text/plain": [
       "184"
      ]
     },
     "execution_count": 23,
     "metadata": {},
     "output_type": "execute_result"
    }
   ],
   "source": [
    "sys.getsizeof(b)\n",
    "# 무조건 터진다...\n",
    "# 그럼?"
   ]
  },
  {
   "cell_type": "code",
   "execution_count": null,
   "id": "80a0a5d4-f381-454f-9080-f826978502be",
   "metadata": {},
   "outputs": [],
   "source": [
    "# board_copy를 만들되, 지우기\n",
    "# sparce matrix 사용하기 -> memory save가 잘 되는지...? sparse 한 경우에는 잘 될텐데 아니면 안될 듯.\n",
    "# visited의 관리는? -> 쉽지 않다. 형태를 기억 해야하는데. memory가 무조건 터질 것 같다. 그럼 sparse한 형태로 저장해도 되나?\n",
    "# 그래도 일단 board_copy 써서 해보자.\n",
    "# DFS는 괜찮은데... BFS는 무조건 터진다.\n",
    "# 일단 dfs로 작성해보자.\n",
    "# bfs로 작성하려면 fp써서 file 작성하는걸 반복해야 할 것 같다."
   ]
  },
  {
   "cell_type": "code",
   "execution_count": 1,
   "id": "b4520be0-dd83-46d1-a255-80ea7e47e950",
   "metadata": {},
   "outputs": [],
   "source": [
    "from collections import deque"
   ]
  },
  {
   "cell_type": "code",
   "execution_count": 4,
   "id": "7dc77edd-8d96-4f86-8b36-f09e27953e07",
   "metadata": {},
   "outputs": [],
   "source": [
    "a = deque(['123'])"
   ]
  },
  {
   "cell_type": "code",
   "execution_count": 5,
   "id": "2bb5dc50-b5be-48bb-abfc-43b4df0ad6c2",
   "metadata": {},
   "outputs": [
    {
     "data": {
      "text/plain": [
       "deque(['123'])"
      ]
     },
     "execution_count": 5,
     "metadata": {},
     "output_type": "execute_result"
    }
   ],
   "source": [
    "a"
   ]
  },
  {
   "cell_type": "code",
   "execution_count": 6,
   "id": "9a469d73-5416-4f67-bb6e-d84467db1634",
   "metadata": {},
   "outputs": [],
   "source": [
    "a = [0, 1, 2, 3, 4]"
   ]
  },
  {
   "cell_type": "code",
   "execution_count": 7,
   "id": "c923bd9e-44b6-490f-8932-b5cab7d1753c",
   "metadata": {},
   "outputs": [],
   "source": [
    "a.remove(0)"
   ]
  },
  {
   "cell_type": "code",
   "execution_count": 8,
   "id": "d730a3de-f1bb-4bec-afb8-7ecdbcf845e5",
   "metadata": {},
   "outputs": [
    {
     "data": {
      "text/plain": [
       "[1, 2, 3, 4]"
      ]
     },
     "execution_count": 8,
     "metadata": {},
     "output_type": "execute_result"
    }
   ],
   "source": [
    "a"
   ]
  },
  {
   "cell_type": "code",
   "execution_count": 9,
   "id": "f0d07cf1-8558-4ade-a8a2-6512d088c0a2",
   "metadata": {},
   "outputs": [],
   "source": [
    "a = '123456789'"
   ]
  },
  {
   "cell_type": "code",
   "execution_count": 10,
   "id": "282efd53-cedb-4430-b715-6ec10bcbf2ec",
   "metadata": {},
   "outputs": [
    {
     "data": {
      "text/plain": [
       "'147'"
      ]
     },
     "execution_count": 10,
     "metadata": {},
     "output_type": "execute_result"
    }
   ],
   "source": [
    "a[0::3]"
   ]
  },
  {
   "cell_type": "code",
   "execution_count": 12,
   "id": "34b842a1-d560-45cb-b87e-71c9b71e4edc",
   "metadata": {},
   "outputs": [
    {
     "data": {
      "text/plain": [
       "'369'"
      ]
     },
     "execution_count": 12,
     "metadata": {},
     "output_type": "execute_result"
    }
   ],
   "source": [
    "a[2::3]"
   ]
  },
  {
   "cell_type": "code",
   "execution_count": 13,
   "id": "87e56e7c-5667-40ef-aba9-f39c7df5a76a",
   "metadata": {},
   "outputs": [
    {
     "data": {
      "text/plain": [
       "'987654321'"
      ]
     },
     "execution_count": 13,
     "metadata": {},
     "output_type": "execute_result"
    }
   ],
   "source": [
    "a[::-1]"
   ]
  },
  {
   "cell_type": "code",
   "execution_count": 14,
   "id": "e3db05b0-6752-4f0d-9f7a-19029828da60",
   "metadata": {},
   "outputs": [
    {
     "data": {
      "text/plain": [
       "'123456789'"
      ]
     },
     "execution_count": 14,
     "metadata": {},
     "output_type": "execute_result"
    }
   ],
   "source": [
    "a"
   ]
  },
  {
   "cell_type": "code",
   "execution_count": 15,
   "id": "a0cc3a48-1452-4a9e-9164-f484e55725da",
   "metadata": {},
   "outputs": [
    {
     "data": {
      "text/plain": [
       "'4321'"
      ]
     },
     "execution_count": 15,
     "metadata": {},
     "output_type": "execute_result"
    }
   ],
   "source": [
    "a[3::-1]"
   ]
  },
  {
   "cell_type": "code",
   "execution_count": 16,
   "id": "0a69a14a-67c8-4c00-b876-84ae1c7d2fc8",
   "metadata": {},
   "outputs": [
    {
     "data": {
      "text/plain": [
       "'987654321'"
      ]
     },
     "execution_count": 16,
     "metadata": {},
     "output_type": "execute_result"
    }
   ],
   "source": [
    "a[-1::-1]"
   ]
  },
  {
   "cell_type": "code",
   "execution_count": 17,
   "id": "9938dae7-5788-4d0e-b888-3aa857e4c1c4",
   "metadata": {},
   "outputs": [
    {
     "data": {
      "text/plain": [
       "'147'"
      ]
     },
     "execution_count": 17,
     "metadata": {},
     "output_type": "execute_result"
    }
   ],
   "source": [
    "a[::3]"
   ]
  },
  {
   "cell_type": "code",
   "execution_count": 18,
   "id": "ca83c750-c974-4634-9b55-9a82c640465b",
   "metadata": {},
   "outputs": [
    {
     "data": {
      "text/plain": [
       "1048576"
      ]
     },
     "execution_count": 18,
     "metadata": {},
     "output_type": "execute_result"
    }
   ],
   "source": [
    "2**20"
   ]
  },
  {
   "cell_type": "code",
   "execution_count": 19,
   "id": "a2828581-294a-4dbf-bfec-c1c0b8278f8b",
   "metadata": {},
   "outputs": [],
   "source": [
    "a = [1, 0, 2, 0]"
   ]
  },
  {
   "cell_type": "code",
   "execution_count": 20,
   "id": "f8b45530-68b5-4926-a924-c461d89682d9",
   "metadata": {},
   "outputs": [],
   "source": [
    "a.remove(0)"
   ]
  },
  {
   "cell_type": "code",
   "execution_count": 21,
   "id": "5eb058bb-15ef-4268-b262-19687e9c3cd2",
   "metadata": {},
   "outputs": [
    {
     "data": {
      "text/plain": [
       "[1, 2, 0]"
      ]
     },
     "execution_count": 21,
     "metadata": {},
     "output_type": "execute_result"
    }
   ],
   "source": [
    "a"
   ]
  },
  {
   "cell_type": "code",
   "execution_count": 22,
   "id": "c37a2362-a156-4cd5-b987-288401b98ce8",
   "metadata": {},
   "outputs": [
    {
     "data": {
      "text/plain": [
       "[1, 2, 0]"
      ]
     },
     "execution_count": 22,
     "metadata": {},
     "output_type": "execute_result"
    }
   ],
   "source": [
    "a"
   ]
  },
  {
   "cell_type": "code",
   "execution_count": 23,
   "id": "27c055e1-9435-4ab3-b23d-7da19ac385e5",
   "metadata": {},
   "outputs": [
    {
     "ename": "TypeError",
     "evalue": "sequence item 0: expected str instance, int found",
     "output_type": "error",
     "traceback": [
      "\u001b[1;31m---------------------------------------------------------------------------\u001b[0m",
      "\u001b[1;31mTypeError\u001b[0m                                 Traceback (most recent call last)",
      "Cell \u001b[1;32mIn[23], line 1\u001b[0m\n\u001b[1;32m----> 1\u001b[0m \u001b[38;5;124;43m'\u001b[39;49m\u001b[38;5;124;43m'\u001b[39;49m\u001b[38;5;241;43m.\u001b[39;49m\u001b[43mjoin\u001b[49m\u001b[43m(\u001b[49m\u001b[43ma\u001b[49m\u001b[43m)\u001b[49m\n",
      "\u001b[1;31mTypeError\u001b[0m: sequence item 0: expected str instance, int found"
     ]
    }
   ],
   "source": [
    "''.join(a)"
   ]
  },
  {
   "cell_type": "code",
   "execution_count": null,
   "id": "d0039c12-9b5e-4b4e-a32f-1b599002acbc",
   "metadata": {},
   "outputs": [],
   "source": []
  }
 ],
 "metadata": {
  "kernelspec": {
   "display_name": "Python 3 (ipykernel)",
   "language": "python",
   "name": "python3"
  },
  "language_info": {
   "codemirror_mode": {
    "name": "ipython",
    "version": 3
   },
   "file_extension": ".py",
   "mimetype": "text/x-python",
   "name": "python",
   "nbconvert_exporter": "python",
   "pygments_lexer": "ipython3",
   "version": "3.10.11"
  }
 },
 "nbformat": 4,
 "nbformat_minor": 5
}
