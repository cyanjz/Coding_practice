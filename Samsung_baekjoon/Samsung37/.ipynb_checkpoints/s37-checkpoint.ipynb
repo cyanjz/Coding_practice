{
 "cells": [
  {
   "cell_type": "code",
   "execution_count": 29,
   "id": "bf04bd72-852c-463e-b3b4-7f7701d55c6b",
   "metadata": {},
   "outputs": [],
   "source": [
    "a = [[1, 2, 3], [4, 5, 6], [7, 8, 9]]"
   ]
  },
  {
   "cell_type": "code",
   "execution_count": 30,
   "id": "9d32b53b-edce-42db-97b6-2e748b6fd462",
   "metadata": {},
   "outputs": [],
   "source": [
    "a[:][:] = [[3, 2, 1], [6, 5, 4], [9, 8, 7]]"
   ]
  },
  {
   "cell_type": "code",
   "execution_count": 31,
   "id": "ca592701-c9b7-4647-96de-cc4b53c5955d",
   "metadata": {},
   "outputs": [
    {
     "data": {
      "text/plain": [
       "[[1, 2, 3], [4, 5, 6], [7, 8, 9]]"
      ]
     },
     "execution_count": 31,
     "metadata": {},
     "output_type": "execute_result"
    }
   ],
   "source": [
    "a"
   ]
  },
  {
   "cell_type": "code",
   "execution_count": 21,
   "id": "70ee200b-5c6e-4ef4-b090-06f3e4cc170f",
   "metadata": {},
   "outputs": [
    {
     "data": {
      "text/plain": [
       "[[1, 2, 3], [4, 5, 6], [7, 8, 9]]"
      ]
     },
     "execution_count": 21,
     "metadata": {},
     "output_type": "execute_result"
    }
   ],
   "source": [
    "a[0:][0:3]"
   ]
  },
  {
   "cell_type": "code",
   "execution_count": 22,
   "id": "476d2b48-39bb-4789-86f9-1502b773f8c7",
   "metadata": {},
   "outputs": [],
   "source": [
    "a[0] = [3, 2, 1]"
   ]
  },
  {
   "cell_type": "code",
   "execution_count": 23,
   "id": "8fec69b6-5e28-4c8f-b86c-6ba27d46358c",
   "metadata": {},
   "outputs": [
    {
     "data": {
      "text/plain": [
       "[[3, 2, 1], [4, 5, 6], [7, 8, 9]]"
      ]
     },
     "execution_count": 23,
     "metadata": {},
     "output_type": "execute_result"
    }
   ],
   "source": [
    "a"
   ]
  },
  {
   "cell_type": "code",
   "execution_count": 24,
   "id": "8f409ae2-50a6-4d26-871b-a1c036636493",
   "metadata": {},
   "outputs": [],
   "source": [
    "a[0][0] = 100"
   ]
  },
  {
   "cell_type": "code",
   "execution_count": 25,
   "id": "890fd237-3284-4d68-95b6-8e182f719cbf",
   "metadata": {},
   "outputs": [
    {
     "data": {
      "text/plain": [
       "[[100, 2, 1], [4, 5, 6], [7, 8, 9]]"
      ]
     },
     "execution_count": 25,
     "metadata": {},
     "output_type": "execute_result"
    }
   ],
   "source": [
    "a"
   ]
  },
  {
   "cell_type": "code",
   "execution_count": 76,
   "id": "10f49159-67d6-4a20-9128-a363f96c5e72",
   "metadata": {},
   "outputs": [
    {
     "data": {
      "text/plain": [
       "[[0, 1, 2, 3], [8, 9, 10, 11]]"
      ]
     },
     "execution_count": 76,
     "metadata": {},
     "output_type": "execute_result"
    }
   ],
   "source": [
    "a[::2]"
   ]
  },
  {
   "cell_type": "code",
   "execution_count": 44,
   "id": "035abde1-91dd-4be2-8c93-9587a00589f1",
   "metadata": {},
   "outputs": [],
   "source": [
    "b = [row[::2] for row in a[::2]]"
   ]
  },
  {
   "cell_type": "code",
   "execution_count": 45,
   "id": "33fa496f-23a2-4339-bcba-6be300c5454a",
   "metadata": {},
   "outputs": [
    {
     "data": {
      "text/plain": [
       "[[1, 3], [7, 9]]"
      ]
     },
     "execution_count": 45,
     "metadata": {},
     "output_type": "execute_result"
    }
   ],
   "source": [
    "b"
   ]
  },
  {
   "cell_type": "code",
   "execution_count": 48,
   "id": "b9c9caf2-392d-4bda-88dc-da712c6ed09d",
   "metadata": {},
   "outputs": [
    {
     "data": {
      "text/plain": [
       "[[1, 2, 3]]"
      ]
     },
     "execution_count": 48,
     "metadata": {},
     "output_type": "execute_result"
    }
   ],
   "source": [
    "[a[::2][][::2],]"
   ]
  },
  {
   "cell_type": "code",
   "execution_count": 70,
   "id": "23f0d334-63b2-45de-b63b-797a3f1ff32d",
   "metadata": {},
   "outputs": [],
   "source": [
    "a = [[_ for _ in range(4*m, 4*m+4)] for m in range(4)]"
   ]
  },
  {
   "cell_type": "code",
   "execution_count": 56,
   "id": "6e60c335-08bd-4aac-8e0f-4276040c222e",
   "metadata": {},
   "outputs": [
    {
     "data": {
      "text/plain": [
       "[[0, 1, 2, 3]]"
      ]
     },
     "execution_count": 56,
     "metadata": {},
     "output_type": "execute_result"
    }
   ],
   "source": [
    "a[]"
   ]
  },
  {
   "cell_type": "code",
   "execution_count": 57,
   "id": "571e0fff-d182-4850-b835-fcd53e58f291",
   "metadata": {},
   "outputs": [],
   "source": [
    "b = [_ for _ in range(20)]"
   ]
  },
  {
   "cell_type": "code",
   "execution_count": 69,
   "id": "523701ae-1ca7-4bde-b1cf-c1159ec3a955",
   "metadata": {},
   "outputs": [
    {
     "ename": "SyntaxError",
     "evalue": "invalid syntax (2024398361.py, line 1)",
     "output_type": "error",
     "traceback": [
      "\u001b[1;36m  Cell \u001b[1;32mIn[69], line 1\u001b[1;36m\u001b[0m\n\u001b[1;33m    b[::2:]\u001b[0m\n\u001b[1;37m         ^\u001b[0m\n\u001b[1;31mSyntaxError\u001b[0m\u001b[1;31m:\u001b[0m invalid syntax\n"
     ]
    }
   ],
   "source": [
    "b[::2]"
   ]
  },
  {
   "cell_type": "code",
   "execution_count": 71,
   "id": "fef85ae0-17b7-4e0c-8da2-af5656b721f4",
   "metadata": {},
   "outputs": [
    {
     "data": {
      "text/plain": [
       "[[0, 1, 2, 3], [4, 5, 6, 7], [8, 9, 10, 11], [12, 13, 14, 15]]"
      ]
     },
     "execution_count": 71,
     "metadata": {},
     "output_type": "execute_result"
    }
   ],
   "source": [
    "a"
   ]
  },
  {
   "cell_type": "code",
   "execution_count": 74,
   "id": "e47daaf2-a9ff-4716-8f34-1794e9dba60d",
   "metadata": {},
   "outputs": [],
   "source": [
    "b = [row[::2] for row in a[::2]]"
   ]
  },
  {
   "cell_type": "code",
   "execution_count": 75,
   "id": "0d141fe8-d965-4e1f-8eda-1294c0d9b7f6",
   "metadata": {},
   "outputs": [
    {
     "data": {
      "text/plain": [
       "[[0, 2], [8, 10]]"
      ]
     },
     "execution_count": 75,
     "metadata": {},
     "output_type": "execute_result"
    }
   ],
   "source": [
    "b"
   ]
  },
  {
   "cell_type": "code",
   "execution_count": 77,
   "id": "a9da840f-ec1a-4220-9613-117d51130fac",
   "metadata": {},
   "outputs": [
    {
     "data": {
      "text/plain": [
       "[[0, 1, 2, 3], [4, 5, 6, 7], [8, 9, 10, 11], [12, 13, 14, 15]]"
      ]
     },
     "execution_count": 77,
     "metadata": {},
     "output_type": "execute_result"
    }
   ],
   "source": [
    "a"
   ]
  },
  {
   "cell_type": "code",
   "execution_count": 78,
   "id": "775ad79e-a534-4373-ae56-583bf258edea",
   "metadata": {},
   "outputs": [
    {
     "data": {
      "text/plain": [
       "[[0, 2], [8, 10]]"
      ]
     },
     "execution_count": 78,
     "metadata": {},
     "output_type": "execute_result"
    }
   ],
   "source": [
    "b"
   ]
  },
  {
   "cell_type": "code",
   "execution_count": 80,
   "id": "88241f98-7cc1-4c29-b29f-496589aab161",
   "metadata": {},
   "outputs": [],
   "source": [
    "b = [_ for _ in range(10)]"
   ]
  },
  {
   "cell_type": "code",
   "execution_count": 81,
   "id": "3e5e00d2-0637-4995-9bb7-d92ab0ca504f",
   "metadata": {},
   "outputs": [
    {
     "data": {
      "text/plain": [
       "[0, 1, 2, 3, 4, 5, 6, 7, 8, 9]"
      ]
     },
     "execution_count": 81,
     "metadata": {},
     "output_type": "execute_result"
    }
   ],
   "source": [
    "b"
   ]
  },
  {
   "cell_type": "code",
   "execution_count": 88,
   "id": "50dba1ac-6563-42df-b84d-b0896937d483",
   "metadata": {},
   "outputs": [
    {
     "data": {
      "text/plain": [
       "[2, 5, 8]"
      ]
     },
     "execution_count": 88,
     "metadata": {},
     "output_type": "execute_result"
    }
   ],
   "source": [
    "b[2::3]"
   ]
  },
  {
   "cell_type": "code",
   "execution_count": 89,
   "id": "b9a0d5ca-d870-4901-9237-d45d315b094e",
   "metadata": {},
   "outputs": [],
   "source": [
    "a = [[[1, 2, 3, 4]], [[5, 6, 7, 8]]]"
   ]
  },
  {
   "cell_type": "code",
   "execution_count": 92,
   "id": "9b810d3d-1365-4d98-8a8f-7ed10b5d33bb",
   "metadata": {},
   "outputs": [
    {
     "data": {
      "text/plain": [
       "[[[1, 2, 3, 4]], [[5, 6, 7, 8]]]"
      ]
     },
     "execution_count": 92,
     "metadata": {},
     "output_type": "execute_result"
    }
   ],
   "source": [
    "[[row for row in block] for block in a]"
   ]
  },
  {
   "cell_type": "code",
   "execution_count": 94,
   "id": "cf2de238-af74-480f-a865-a1c69cfcf14e",
   "metadata": {},
   "outputs": [],
   "source": [
    "a = [1, 2, 3, 4]\n",
    "b = [5, 6, 7, 8]\n",
    "c = [9, 10, 11, 12]"
   ]
  },
  {
   "cell_type": "code",
   "execution_count": 95,
   "id": "8e33c18c-5b1f-4f8d-8212-89b65877d8e0",
   "metadata": {},
   "outputs": [
    {
     "name": "stdout",
     "output_type": "stream",
     "text": [
      "(1, 5, 9)\n",
      "(2, 6, 10)\n",
      "(3, 7, 11)\n",
      "(4, 8, 12)\n"
     ]
    }
   ],
   "source": [
    "for i in zip(a, b, c):\n",
    "    print(i)"
   ]
  },
  {
   "cell_type": "code",
   "execution_count": 98,
   "id": "f8d5cd90-f68a-4f6a-829d-e73c6495dea3",
   "metadata": {},
   "outputs": [
    {
     "name": "stdout",
     "output_type": "stream",
     "text": [
      "0\n",
      "2\n",
      "4\n",
      "6\n",
      "8\n",
      "10\n",
      "12\n",
      "14\n",
      "16\n",
      "18\n",
      "20\n",
      "22\n",
      "24\n",
      "26\n",
      "28\n",
      "30\n"
     ]
    }
   ],
   "source": [
    "for i in range(0, 32, 2):\n",
    "    print(i)"
   ]
  },
  {
   "cell_type": "code",
   "execution_count": 1,
   "id": "83235e55-1931-4109-b2aa-a07d3889cfaa",
   "metadata": {},
   "outputs": [],
   "source": [
    "test = [([[0], [2], [4], [6]], [[1], [3], [5], [7]]), ([[0, 1], [4, 5]], [[2, 3], [6, 7]]), ([[0, 1, 2, 3]], [[4, 5, 6, 7]])]"
   ]
  },
  {
   "cell_type": "code",
   "execution_count": 2,
   "id": "222ad356-a3c5-4cf5-9a5a-30758f759d6e",
   "metadata": {},
   "outputs": [
    {
     "data": {
      "text/plain": [
       "[([[0], [2], [4], [6]], [[1], [3], [5], [7]]),\n",
       " ([[0, 1], [4, 5]], [[2, 3], [6, 7]]),\n",
       " ([[0, 1, 2, 3]], [[4, 5, 6, 7]])]"
      ]
     },
     "execution_count": 2,
     "metadata": {},
     "output_type": "execute_result"
    }
   ],
   "source": [
    "test"
   ]
  },
  {
   "cell_type": "code",
   "execution_count": 3,
   "id": "410b54c9-eac5-42da-8050-e4aba2e788b1",
   "metadata": {},
   "outputs": [
    {
     "data": {
      "text/plain": [
       "([[0], [2], [4], [6]], [[1], [3], [5], [7]])"
      ]
     },
     "execution_count": 3,
     "metadata": {},
     "output_type": "execute_result"
    }
   ],
   "source": [
    "test[0]"
   ]
  },
  {
   "cell_type": "code",
   "execution_count": 4,
   "id": "5c0e887d-9b96-4546-9571-2c3be254c141",
   "metadata": {},
   "outputs": [
    {
     "data": {
      "text/plain": [
       "([[0, 1], [4, 5]], [[2, 3], [6, 7]])"
      ]
     },
     "execution_count": 4,
     "metadata": {},
     "output_type": "execute_result"
    }
   ],
   "source": [
    "test[1]"
   ]
  },
  {
   "cell_type": "code",
   "execution_count": 5,
   "id": "ba19267b-e086-4e64-b966-ccc2adb297db",
   "metadata": {},
   "outputs": [],
   "source": [
    "odd, even = test[1]"
   ]
  },
  {
   "cell_type": "code",
   "execution_count": 6,
   "id": "900124c4-1066-46d0-b897-c12d41bb5094",
   "metadata": {},
   "outputs": [
    {
     "data": {
      "text/plain": [
       "[[0, 1], [4, 5]]"
      ]
     },
     "execution_count": 6,
     "metadata": {},
     "output_type": "execute_result"
    }
   ],
   "source": [
    "odd"
   ]
  },
  {
   "cell_type": "code",
   "execution_count": 7,
   "id": "f6965887-f438-4239-b01b-6a1edd5f0812",
   "metadata": {},
   "outputs": [
    {
     "data": {
      "text/plain": [
       "[[2, 3], [6, 7]]"
      ]
     },
     "execution_count": 7,
     "metadata": {},
     "output_type": "execute_result"
    }
   ],
   "source": [
    "even"
   ]
  },
  {
   "cell_type": "code",
   "execution_count": 10,
   "id": "507334d5-1ba7-420e-aa0c-b9997740dc36",
   "metadata": {},
   "outputs": [],
   "source": [
    "coords = []\n",
    "for row_ids in even:\n",
    "    for col_ids in even:\n",
    "        block = []\n",
    "        for row_id in row_ids:\n",
    "            for col_id in col_ids:\n",
    "                coords.append((row_id, col_id))"
   ]
  },
  {
   "cell_type": "code",
   "execution_count": 11,
   "id": "112b531f-1288-44c1-8098-0521f831f6e4",
   "metadata": {},
   "outputs": [
    {
     "data": {
      "text/plain": [
       "[(2, 2),\n",
       " (2, 3),\n",
       " (3, 2),\n",
       " (3, 3),\n",
       " (2, 6),\n",
       " (2, 7),\n",
       " (3, 6),\n",
       " (3, 7),\n",
       " (6, 2),\n",
       " (6, 3),\n",
       " (7, 2),\n",
       " (7, 3),\n",
       " (6, 6),\n",
       " (6, 7),\n",
       " (7, 6),\n",
       " (7, 7)]"
      ]
     },
     "execution_count": 11,
     "metadata": {},
     "output_type": "execute_result"
    }
   ],
   "source": [
    "coords"
   ]
  },
  {
   "cell_type": "code",
   "execution_count": null,
   "id": "73863019-ea89-4795-bba7-ce300cd9bf25",
   "metadata": {},
   "outputs": [],
   "source": []
  }
 ],
 "metadata": {
  "kernelspec": {
   "display_name": "Python 3 (ipykernel)",
   "language": "python",
   "name": "python3"
  },
  "language_info": {
   "codemirror_mode": {
    "name": "ipython",
    "version": 3
   },
   "file_extension": ".py",
   "mimetype": "text/x-python",
   "name": "python",
   "nbconvert_exporter": "python",
   "pygments_lexer": "ipython3",
   "version": "3.10.11"
  }
 },
 "nbformat": 4,
 "nbformat_minor": 5
}
