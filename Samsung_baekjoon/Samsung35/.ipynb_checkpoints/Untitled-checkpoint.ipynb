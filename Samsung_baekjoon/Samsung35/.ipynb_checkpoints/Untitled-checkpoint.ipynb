{
 "cells": [
  {
   "cell_type": "code",
   "execution_count": 1,
   "id": "94830ec9-d674-41d3-90c1-c7c4904ed168",
   "metadata": {},
   "outputs": [],
   "source": [
    "a = {(1, 1) : 3}"
   ]
  },
  {
   "cell_type": "code",
   "execution_count": 2,
   "id": "88962376-a259-487a-8d7d-18f75fb62d2f",
   "metadata": {},
   "outputs": [
    {
     "data": {
      "text/plain": [
       "{(1, 1): 3}"
      ]
     },
     "execution_count": 2,
     "metadata": {},
     "output_type": "execute_result"
    }
   ],
   "source": [
    "a"
   ]
  },
  {
   "cell_type": "code",
   "execution_count": 4,
   "id": "d6c1e579-13ac-4e47-bdca-e092d0748f1b",
   "metadata": {},
   "outputs": [
    {
     "name": "stdout",
     "output_type": "stream",
     "text": [
      "1 1 3\n"
     ]
    }
   ],
   "source": [
    "for (r, c), v in a.items():\n",
    "    print(r, c, v)"
   ]
  },
  {
   "cell_type": "code",
   "execution_count": 5,
   "id": "bf91cca4-cb36-4d84-b507-f000453d4750",
   "metadata": {},
   "outputs": [
    {
     "data": {
      "text/plain": [
       "<zip at 0x16cfa95bb40>"
      ]
     },
     "execution_count": 5,
     "metadata": {},
     "output_type": "execute_result"
    }
   ],
   "source": [
    "a = [1, 2]\n",
    "b = [3, 4]\n",
    "zip(a, b)"
   ]
  },
  {
   "cell_type": "code",
   "execution_count": 6,
   "id": "bc5b7ee3-8e02-489b-86bb-75a7ace2326c",
   "metadata": {},
   "outputs": [
    {
     "name": "stdout",
     "output_type": "stream",
     "text": [
      "(1, 3)\n",
      "(2, 4)\n"
     ]
    }
   ],
   "source": [
    "for x in zip(a, b):\n",
    "    print(x)"
   ]
  },
  {
   "cell_type": "code",
   "execution_count": 7,
   "id": "3f34f0ea-dfdf-41f7-b857-c338a5cf1c50",
   "metadata": {},
   "outputs": [],
   "source": [
    "c = [a, b]"
   ]
  },
  {
   "cell_type": "code",
   "execution_count": 8,
   "id": "c15b26fe-0f51-4d52-ab19-e01077c052b4",
   "metadata": {},
   "outputs": [
    {
     "data": {
      "text/plain": [
       "<zip at 0x16cfa946600>"
      ]
     },
     "execution_count": 8,
     "metadata": {},
     "output_type": "execute_result"
    }
   ],
   "source": [
    "zip(c)"
   ]
  },
  {
   "cell_type": "code",
   "execution_count": 11,
   "id": "c467fe82-2f2e-405a-95ff-8294f2e5b12f",
   "metadata": {},
   "outputs": [
    {
     "name": "stdout",
     "output_type": "stream",
     "text": [
      "(1, 3)\n",
      "(2, 4)\n"
     ]
    }
   ],
   "source": [
    "for x in zip(*c):\n",
    "    print(x)"
   ]
  },
  {
   "cell_type": "code",
   "execution_count": 12,
   "id": "08fea38a-7257-4d62-9188-545223a8af66",
   "metadata": {},
   "outputs": [],
   "source": [
    "a = [None] * 4"
   ]
  },
  {
   "cell_type": "code",
   "execution_count": 13,
   "id": "319f4611-d3eb-437c-afd2-1205ef586cb9",
   "metadata": {},
   "outputs": [
    {
     "data": {
      "text/plain": [
       "[None, None, None, None]"
      ]
     },
     "execution_count": 13,
     "metadata": {},
     "output_type": "execute_result"
    }
   ],
   "source": [
    "a"
   ]
  },
  {
   "cell_type": "code",
   "execution_count": 14,
   "id": "e698f388-4041-41f6-8c88-004179784110",
   "metadata": {},
   "outputs": [],
   "source": [
    "a[0] = 1"
   ]
  },
  {
   "cell_type": "code",
   "execution_count": 15,
   "id": "750601ae-2293-4fd2-a374-271ac8a78a08",
   "metadata": {},
   "outputs": [
    {
     "data": {
      "text/plain": [
       "[1, None, None, None]"
      ]
     },
     "execution_count": 15,
     "metadata": {},
     "output_type": "execute_result"
    }
   ],
   "source": [
    "a"
   ]
  },
  {
   "cell_type": "code",
   "execution_count": 16,
   "id": "bafe9746-67c6-4ca3-baf9-1f2a817a089c",
   "metadata": {},
   "outputs": [],
   "source": [
    "a = [1, 2, 3, 4]\n",
    "a.clear()"
   ]
  },
  {
   "cell_type": "code",
   "execution_count": 17,
   "id": "144d2ccf-59ce-45ff-994f-4567a984bcac",
   "metadata": {},
   "outputs": [
    {
     "data": {
      "text/plain": [
       "[]"
      ]
     },
     "execution_count": 17,
     "metadata": {},
     "output_type": "execute_result"
    }
   ],
   "source": [
    "a"
   ]
  },
  {
   "cell_type": "code",
   "execution_count": 30,
   "id": "34e91533-a907-4194-bba7-d3a0810b0cf6",
   "metadata": {},
   "outputs": [
    {
     "name": "stdout",
     "output_type": "stream",
     "text": [
      "0\n",
      "2\n",
      "4\n",
      "6\n"
     ]
    }
   ],
   "source": [
    "for i in range(1 if 0 else 0, 8, 2):\n",
    "    print(i)"
   ]
  },
  {
   "cell_type": "code",
   "execution_count": 29,
   "id": "45fbeaa5-ffe1-4ac0-a3ab-2830927fefea",
   "metadata": {},
   "outputs": [
    {
     "name": "stdout",
     "output_type": "stream",
     "text": [
      "0\n",
      "2\n",
      "4\n",
      "6\n"
     ]
    }
   ],
   "source": [
    "for i in range(0, 8, 2):\n",
    "    print(i)"
   ]
  },
  {
   "cell_type": "code",
   "execution_count": 31,
   "id": "1d59bf76-d5b1-4b23-8074-a34fb946daf5",
   "metadata": {},
   "outputs": [
    {
     "name": "stdout",
     "output_type": "stream",
     "text": [
      "1\n",
      "3\n",
      "5\n",
      "7\n"
     ]
    }
   ],
   "source": [
    "for i in range(1 if 1 else 0, 8, 2):\n",
    "    print(i)"
   ]
  },
  {
   "cell_type": "code",
   "execution_count": 32,
   "id": "0cd09357-4586-45f1-907b-291875d91c22",
   "metadata": {},
   "outputs": [
    {
     "ename": "SyntaxError",
     "evalue": "expected ':' (4123093286.py, line 1)",
     "output_type": "error",
     "traceback": [
      "\u001b[1;36m  Cell \u001b[1;32mIn[32], line 1\u001b[1;36m\u001b[0m\n\u001b[1;33m    for i in range(3 if 1 else 0, 8, 2)\u001b[0m\n\u001b[1;37m                                       ^\u001b[0m\n\u001b[1;31mSyntaxError\u001b[0m\u001b[1;31m:\u001b[0m expected ':'\n"
     ]
    }
   ],
   "source": [
    "for i in range(3 if 1 else 0, 8, 2)"
   ]
  },
  {
   "cell_type": "code",
   "execution_count": null,
   "id": "caa52f92-8736-48da-b431-5ac6c9f4b6f5",
   "metadata": {},
   "outputs": [],
   "source": []
  }
 ],
 "metadata": {
  "kernelspec": {
   "display_name": "Python 3 (ipykernel)",
   "language": "python",
   "name": "python3"
  },
  "language_info": {
   "codemirror_mode": {
    "name": "ipython",
    "version": 3
   },
   "file_extension": ".py",
   "mimetype": "text/x-python",
   "name": "python",
   "nbconvert_exporter": "python",
   "pygments_lexer": "ipython3",
   "version": "3.10.11"
  }
 },
 "nbformat": 4,
 "nbformat_minor": 5
}
