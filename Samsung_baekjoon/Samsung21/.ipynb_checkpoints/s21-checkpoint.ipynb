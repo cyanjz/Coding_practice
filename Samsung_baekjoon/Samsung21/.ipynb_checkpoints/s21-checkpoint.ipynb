{
 "cells": [
  {
   "cell_type": "code",
   "execution_count": 4,
   "id": "3cdcf5aa-fc01-46d6-9990-dd755897645e",
   "metadata": {},
   "outputs": [],
   "source": [
    "a = [(0, 1, 3), (4, 1, 6), (100, 200, 300), (1, 1000, 0), (10000, 4, 2), (0, 200, 400)]"
   ]
  },
  {
   "cell_type": "code",
   "execution_count": 5,
   "id": "63a29c5b-9ed2-48ab-8cd4-064ba4ec4ac0",
   "metadata": {},
   "outputs": [],
   "source": [
    "a.sort(key = lambda x : (x[1], x[0], x[2]))"
   ]
  },
  {
   "cell_type": "code",
   "execution_count": 6,
   "id": "29ded3d9-9e20-4037-8b5b-cad6e27d5638",
   "metadata": {},
   "outputs": [
    {
     "data": {
      "text/plain": [
       "[(0, 1, 3),\n",
       " (4, 1, 6),\n",
       " (10000, 4, 2),\n",
       " (0, 200, 400),\n",
       " (100, 200, 300),\n",
       " (1, 1000, 0)]"
      ]
     },
     "execution_count": 6,
     "metadata": {},
     "output_type": "execute_result"
    }
   ],
   "source": [
    "a"
   ]
  },
  {
   "cell_type": "code",
   "execution_count": 9,
   "id": "2eb1313b-8535-4c76-b9ec-5edad2ef203f",
   "metadata": {},
   "outputs": [],
   "source": [
    "b = (1, 2)\n",
    "a = [(b, 3)]"
   ]
  },
  {
   "cell_type": "code",
   "execution_count": 10,
   "id": "8e312bd6-d6b3-4024-b063-7e0336bdbd3c",
   "metadata": {},
   "outputs": [
    {
     "data": {
      "text/plain": [
       "((1, 2), 3)"
      ]
     },
     "execution_count": 10,
     "metadata": {},
     "output_type": "execute_result"
    }
   ],
   "source": [
    "a[0]"
   ]
  },
  {
   "cell_type": "code",
   "execution_count": null,
   "id": "7f652a6e-b8df-4656-aa20-2410123df0ca",
   "metadata": {},
   "outputs": [],
   "source": []
  }
 ],
 "metadata": {
  "kernelspec": {
   "display_name": "Python 3 (ipykernel)",
   "language": "python",
   "name": "python3"
  },
  "language_info": {
   "codemirror_mode": {
    "name": "ipython",
    "version": 3
   },
   "file_extension": ".py",
   "mimetype": "text/x-python",
   "name": "python",
   "nbconvert_exporter": "python",
   "pygments_lexer": "ipython3",
   "version": "3.10.11"
  }
 },
 "nbformat": 4,
 "nbformat_minor": 5
}
