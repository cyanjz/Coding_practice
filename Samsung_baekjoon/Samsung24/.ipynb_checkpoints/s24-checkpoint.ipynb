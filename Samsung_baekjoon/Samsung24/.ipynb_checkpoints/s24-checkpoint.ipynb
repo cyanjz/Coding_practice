{
 "cells": [
  {
   "cell_type": "code",
   "execution_count": 2,
   "id": "54b9b4d8-3df3-4166-a71c-50113bfd6f0f",
   "metadata": {},
   "outputs": [
    {
     "ename": "SyntaxError",
     "evalue": "iterable unpacking cannot be used in comprehension (3293012033.py, line 2)",
     "output_type": "error",
     "traceback": [
      "\u001b[1;36m  Cell \u001b[1;32mIn[2], line 2\u001b[1;36m\u001b[0m\n\u001b[1;33m    b = [*(k, v) for k, v in a]\u001b[0m\n\u001b[1;37m         ^\u001b[0m\n\u001b[1;31mSyntaxError\u001b[0m\u001b[1;31m:\u001b[0m iterable unpacking cannot be used in comprehension\n"
     ]
    }
   ],
   "source": [
    "a = [(1, 2), (3, 4)]\n",
    "b = [k, v for k, v in a]"
   ]
  },
  {
   "cell_type": "code",
   "execution_count": 3,
   "id": "274b1cf1-b251-474c-851e-fd2883fec4b0",
   "metadata": {},
   "outputs": [],
   "source": [
    "a = {1 : 3, 2 : 4}"
   ]
  },
  {
   "cell_type": "code",
   "execution_count": 4,
   "id": "590d9b59-9225-4883-ac9a-2e7a4906ae6d",
   "metadata": {},
   "outputs": [
    {
     "ename": "AttributeError",
     "evalue": "'dict' object has no attribute 'sort'",
     "output_type": "error",
     "traceback": [
      "\u001b[1;31m---------------------------------------------------------------------------\u001b[0m",
      "\u001b[1;31mAttributeError\u001b[0m                            Traceback (most recent call last)",
      "Cell \u001b[1;32mIn[4], line 1\u001b[0m\n\u001b[1;32m----> 1\u001b[0m \u001b[43ma\u001b[49m\u001b[38;5;241;43m.\u001b[39;49m\u001b[43msort\u001b[49m(key \u001b[38;5;241m=\u001b[39m \u001b[38;5;28;01mlambda\u001b[39;00m x : (a[x], x))\n",
      "\u001b[1;31mAttributeError\u001b[0m: 'dict' object has no attribute 'sort'"
     ]
    }
   ],
   "source": [
    "a.sort(key = lambda x : (a[x], x))"
   ]
  },
  {
   "cell_type": "code",
   "execution_count": 12,
   "id": "eeba9fa1-add6-4bfb-8d80-3515fa15b4e6",
   "metadata": {},
   "outputs": [],
   "source": [
    "a = [[1, 2, 3], [4, 5, 6]]"
   ]
  },
  {
   "cell_type": "code",
   "execution_count": 6,
   "id": "f853f859-abca-4b2a-8cc3-5545e260827a",
   "metadata": {},
   "outputs": [],
   "source": [
    "for row in a:\n",
    "    row += [0]"
   ]
  },
  {
   "cell_type": "code",
   "execution_count": 7,
   "id": "b801b541-c7e5-4d46-937c-a874c9291975",
   "metadata": {},
   "outputs": [
    {
     "data": {
      "text/plain": [
       "[[1, 2, 3, 0], [4, 5, 6, 0]]"
      ]
     },
     "execution_count": 7,
     "metadata": {},
     "output_type": "execute_result"
    }
   ],
   "source": [
    "a"
   ]
  },
  {
   "cell_type": "code",
   "execution_count": 8,
   "id": "b6ad0481-c06c-42c3-8b08-653be581402f",
   "metadata": {},
   "outputs": [],
   "source": [
    "a = [1, 2, 3]"
   ]
  },
  {
   "cell_type": "code",
   "execution_count": 9,
   "id": "e018accd-4d19-407f-8acd-697d195752a9",
   "metadata": {},
   "outputs": [
    {
     "data": {
      "text/plain": [
       "[1, 2, 3]"
      ]
     },
     "execution_count": 9,
     "metadata": {},
     "output_type": "execute_result"
    }
   ],
   "source": [
    "a[:100]"
   ]
  },
  {
   "cell_type": "code",
   "execution_count": 11,
   "id": "8fe378c8-7618-42a9-9bf4-74586dde8d2c",
   "metadata": {},
   "outputs": [
    {
     "data": {
      "text/plain": [
       "[1, 2, 3]"
      ]
     },
     "execution_count": 11,
     "metadata": {},
     "output_type": "execute_result"
    }
   ],
   "source": [
    "[1, 2, 3] + [0] * -100"
   ]
  },
  {
   "cell_type": "code",
   "execution_count": 15,
   "id": "13862a91-e8b6-4575-83ac-9ef3c7e190aa",
   "metadata": {},
   "outputs": [],
   "source": [
    "b = [x for x in zip(*a)]"
   ]
  },
  {
   "cell_type": "code",
   "execution_count": 16,
   "id": "c15b1bfd-9bee-4b20-ab5b-8de210dacbc6",
   "metadata": {},
   "outputs": [
    {
     "data": {
      "text/plain": [
       "[(1, 4), (2, 5), (3, 6)]"
      ]
     },
     "execution_count": 16,
     "metadata": {},
     "output_type": "execute_result"
    }
   ],
   "source": [
    "b"
   ]
  },
  {
   "cell_type": "code",
   "execution_count": null,
   "id": "68c551de-a78f-4b2d-98c8-4c9bf3421021",
   "metadata": {},
   "outputs": [],
   "source": []
  }
 ],
 "metadata": {
  "kernelspec": {
   "display_name": "Python 3 (ipykernel)",
   "language": "python",
   "name": "python3"
  },
  "language_info": {
   "codemirror_mode": {
    "name": "ipython",
    "version": 3
   },
   "file_extension": ".py",
   "mimetype": "text/x-python",
   "name": "python",
   "nbconvert_exporter": "python",
   "pygments_lexer": "ipython3",
   "version": "3.10.11"
  }
 },
 "nbformat": 4,
 "nbformat_minor": 5
}
