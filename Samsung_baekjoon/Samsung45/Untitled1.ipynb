{
 "cells": [
  {
   "cell_type": "code",
   "execution_count": 1,
   "id": "907c4f74-aabb-4c42-a0ba-8ac35e1eab2c",
   "metadata": {},
   "outputs": [],
   "source": [
    "a = [[1, 2], [3, 4]]"
   ]
  },
  {
   "cell_type": "code",
   "execution_count": 6,
   "id": "db2ab8c7-cd73-4b99-b19e-70afa2ebc883",
   "metadata": {},
   "outputs": [
    {
     "data": {
      "text/plain": [
       "[(1, 3), (2, 4)]"
      ]
     },
     "execution_count": 6,
     "metadata": {},
     "output_type": "execute_result"
    }
   ],
   "source": [
    "[x for x in zip(*a)]"
   ]
  },
  {
   "cell_type": "code",
   "execution_count": 1,
   "id": "0a30ae2c-cca9-4d39-a165-c079dbba48be",
   "metadata": {},
   "outputs": [
    {
     "data": {
      "text/plain": [
       "-2"
      ]
     },
     "execution_count": 1,
     "metadata": {},
     "output_type": "execute_result"
    }
   ],
   "source": [
    "-6//5"
   ]
  },
  {
   "cell_type": "code",
   "execution_count": 3,
   "id": "9ec8d250-87bb-447f-8511-779d13fe3af1",
   "metadata": {},
   "outputs": [
    {
     "data": {
      "text/plain": [
       "1.0"
      ]
     },
     "execution_count": 3,
     "metadata": {},
     "output_type": "execute_result"
    }
   ],
   "source": [
    "(-6/6 * -6)//5"
   ]
  },
  {
   "cell_type": "code",
   "execution_count": 5,
   "id": "3a0bc80f-c480-4ecd-821f-14996464283f",
   "metadata": {},
   "outputs": [
    {
     "data": {
      "text/plain": [
       "-1"
      ]
     },
     "execution_count": 5,
     "metadata": {},
     "output_type": "execute_result"
    }
   ],
   "source": [
    "-6//6 * (abs(-6)//5)"
   ]
  },
  {
   "cell_type": "code",
   "execution_count": 19,
   "id": "6a6ee8b4-7d3d-4b0a-a0ac-a44e8102d9b1",
   "metadata": {},
   "outputs": [],
   "source": [
    "a = [1, 2, 3]\n",
    "def test_():\n",
    "    test()\n",
    "    print(a)\n",
    "    return\n",
    "\n",
    "def test():\n",
    "    a[0] = 100\n",
    "    print(a)\n",
    "    return"
   ]
  },
  {
   "cell_type": "code",
   "execution_count": 20,
   "id": "578412e0-7ae3-4d28-8a84-ebf9bb325bed",
   "metadata": {},
   "outputs": [
    {
     "name": "stdout",
     "output_type": "stream",
     "text": [
      "[100, 2, 3]\n",
      "[100, 2, 3]\n"
     ]
    }
   ],
   "source": [
    "test_()"
   ]
  },
  {
   "cell_type": "code",
   "execution_count": 21,
   "id": "15d57d33-6988-4c37-aae7-5f091561c99a",
   "metadata": {},
   "outputs": [
    {
     "data": {
      "text/plain": [
       "[3, 2, 100]"
      ]
     },
     "execution_count": 21,
     "metadata": {},
     "output_type": "execute_result"
    }
   ],
   "source": [
    "a[::-1]"
   ]
  },
  {
   "cell_type": "code",
   "execution_count": null,
   "id": "738d93a9-55f3-4950-9bdd-4dd7f87c891d",
   "metadata": {},
   "outputs": [],
   "source": []
  }
 ],
 "metadata": {
  "kernelspec": {
   "display_name": "Python 3 (ipykernel)",
   "language": "python",
   "name": "python3"
  },
  "language_info": {
   "codemirror_mode": {
    "name": "ipython",
    "version": 3
   },
   "file_extension": ".py",
   "mimetype": "text/x-python",
   "name": "python",
   "nbconvert_exporter": "python",
   "pygments_lexer": "ipython3",
   "version": "3.10.11"
  }
 },
 "nbformat": 4,
 "nbformat_minor": 5
}
