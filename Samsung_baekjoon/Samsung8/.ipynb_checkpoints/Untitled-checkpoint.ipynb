{
 "cells": [
  {
   "cell_type": "code",
   "execution_count": 1,
   "id": "0e18276c-d070-4e88-b902-2d3aeb275b8c",
   "metadata": {},
   "outputs": [],
   "source": [
    "import time"
   ]
  },
  {
   "cell_type": "code",
   "execution_count": 2,
   "id": "2961e235-ee38-4e3c-b94d-e6f88ffe3127",
   "metadata": {},
   "outputs": [
    {
     "data": {
      "text/plain": [
       "1713228072.4831836"
      ]
     },
     "execution_count": 2,
     "metadata": {},
     "output_type": "execute_result"
    }
   ],
   "source": [
    "time.time()"
   ]
  },
  {
   "cell_type": "code",
   "execution_count": 3,
   "id": "0e052488-d2fa-4ce9-8d22-054b875e4fb6",
   "metadata": {},
   "outputs": [],
   "source": [
    "from itertools import combinations"
   ]
  },
  {
   "cell_type": "code",
   "execution_count": 4,
   "id": "9c2dbb23-8ad3-4568-b9b8-19265593edce",
   "metadata": {},
   "outputs": [
    {
     "data": {
      "text/plain": [
       "<itertools.combinations at 0x150678699e0>"
      ]
     },
     "execution_count": 4,
     "metadata": {},
     "output_type": "execute_result"
    }
   ],
   "source": [
    "combinations([1, 2, 3], 2)"
   ]
  },
  {
   "cell_type": "code",
   "execution_count": 6,
   "id": "1ade3618-10ec-4999-aed0-942836ac6f64",
   "metadata": {},
   "outputs": [
    {
     "name": "stdout",
     "output_type": "stream",
     "text": [
      "((1, 2), (2, 3))\n",
      "((1, 2), (4, 5))\n",
      "((2, 3), (4, 5))\n"
     ]
    }
   ],
   "source": [
    "for x in combinations([(1, 2), (2, 3), (4, 5)], 2):\n",
    "    print(x)"
   ]
  },
  {
   "cell_type": "code",
   "execution_count": null,
   "id": "5a0fd2bc-008a-49e2-a119-18ef795ca699",
   "metadata": {},
   "outputs": [],
   "source": []
  }
 ],
 "metadata": {
  "kernelspec": {
   "display_name": "Python 3 (ipykernel)",
   "language": "python",
   "name": "python3"
  },
  "language_info": {
   "codemirror_mode": {
    "name": "ipython",
    "version": 3
   },
   "file_extension": ".py",
   "mimetype": "text/x-python",
   "name": "python",
   "nbconvert_exporter": "python",
   "pygments_lexer": "ipython3",
   "version": "3.10.11"
  }
 },
 "nbformat": 4,
 "nbformat_minor": 5
}
