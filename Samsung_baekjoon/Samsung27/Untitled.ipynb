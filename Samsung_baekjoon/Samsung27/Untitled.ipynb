{
 "cells": [
  {
   "cell_type": "code",
   "execution_count": 1,
   "id": "f3a83f4a-3a1f-419c-8343-ea18070fdaf9",
   "metadata": {},
   "outputs": [],
   "source": [
    "a = [1]*2 + [4, 5, 6] + [1] * 2"
   ]
  },
  {
   "cell_type": "code",
   "execution_count": 6,
   "id": "78723e0c-10ee-40cc-905d-5c55a1a289d4",
   "metadata": {},
   "outputs": [],
   "source": [
    "a = [[1] * 3] +  [[4, 5, 6], [7, 8, 9]] + [[1] * 3]"
   ]
  },
  {
   "cell_type": "code",
   "execution_count": 7,
   "id": "0eb3518a-7481-4323-9629-0e51e6c12421",
   "metadata": {},
   "outputs": [
    {
     "data": {
      "text/plain": [
       "[[1, 1, 1], [4, 5, 6], [7, 8, 9], [1, 1, 1]]"
      ]
     },
     "execution_count": 7,
     "metadata": {},
     "output_type": "execute_result"
    }
   ],
   "source": [
    "a"
   ]
  },
  {
   "cell_type": "code",
   "execution_count": 9,
   "id": "f1cd634b-b9b4-4502-9374-126bb2242fbd",
   "metadata": {},
   "outputs": [
    {
     "name": "stdout",
     "output_type": "stream",
     "text": [
      "2\n",
      "3\n",
      "4\n"
     ]
    }
   ],
   "source": [
    "for i in range(5):\n",
    "    if i < 3:\n",
    "        if i < 2:\n",
    "            continue\n",
    "    print(i)"
   ]
  },
  {
   "cell_type": "code",
   "execution_count": null,
   "id": "782c92c0-86f5-45cc-aa42-4822089c9c08",
   "metadata": {},
   "outputs": [],
   "source": []
  }
 ],
 "metadata": {
  "kernelspec": {
   "display_name": "Python 3 (ipykernel)",
   "language": "python",
   "name": "python3"
  },
  "language_info": {
   "codemirror_mode": {
    "name": "ipython",
    "version": 3
   },
   "file_extension": ".py",
   "mimetype": "text/x-python",
   "name": "python",
   "nbconvert_exporter": "python",
   "pygments_lexer": "ipython3",
   "version": "3.10.11"
  }
 },
 "nbformat": 4,
 "nbformat_minor": 5
}
