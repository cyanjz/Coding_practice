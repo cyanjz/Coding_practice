{
 "cells": [
  {
   "cell_type": "code",
   "execution_count": 13,
   "id": "e5c4c996-3b27-43e6-bf5a-80c1e9f2eb6f",
   "metadata": {},
   "outputs": [],
   "source": [
    "a = [list() for _ in range(4)]"
   ]
  },
  {
   "cell_type": "code",
   "execution_count": 14,
   "id": "a318c5d5-3fa8-46f1-8a4a-de93774f08da",
   "metadata": {},
   "outputs": [],
   "source": [
    "a[0].append(3)"
   ]
  },
  {
   "cell_type": "code",
   "execution_count": 15,
   "id": "cf80ab53-4080-4d97-bb77-37b71305c221",
   "metadata": {},
   "outputs": [
    {
     "data": {
      "text/plain": [
       "[[3], [], [], []]"
      ]
     },
     "execution_count": 15,
     "metadata": {},
     "output_type": "execute_result"
    }
   ],
   "source": [
    "a"
   ]
  },
  {
   "cell_type": "code",
   "execution_count": 16,
   "id": "0eb34824-00ec-4282-8f72-a33f4955b04d",
   "metadata": {},
   "outputs": [],
   "source": [
    "a = [1, 2, 3, 4]"
   ]
  },
  {
   "cell_type": "code",
   "execution_count": 17,
   "id": "2de84ac3-b770-4c13-b2b3-f24f4cd4891b",
   "metadata": {},
   "outputs": [
    {
     "ename": "IndexError",
     "evalue": "list index out of range",
     "output_type": "error",
     "traceback": [
      "\u001b[1;31m---------------------------------------------------------------------------\u001b[0m",
      "\u001b[1;31mIndexError\u001b[0m                                Traceback (most recent call last)",
      "Cell \u001b[1;32mIn[17], line 1\u001b[0m\n\u001b[1;32m----> 1\u001b[0m \u001b[43ma\u001b[49m\u001b[43m[\u001b[49m\u001b[38;5;241;43m-\u001b[39;49m\u001b[38;5;241;43m40\u001b[39;49m\u001b[43m]\u001b[49m\n",
      "\u001b[1;31mIndexError\u001b[0m: list index out of range"
     ]
    }
   ],
   "source": [
    "a[-40]"
   ]
  },
  {
   "cell_type": "code",
   "execution_count": 19,
   "id": "e362288e-7446-425f-95af-5048cbcae6ad",
   "metadata": {},
   "outputs": [
    {
     "name": "stdout",
     "output_type": "stream",
     "text": [
      "0 0\n",
      "1 0\n",
      "2 0\n",
      "3 0\n",
      "0 1\n",
      "1 1\n",
      "2 1\n",
      "3 1\n",
      "0 2\n",
      "1 2\n",
      "2 2\n",
      "3 2\n"
     ]
    }
   ],
   "source": [
    "for j in range(3):\n",
    "    for i in range(10):\n",
    "        print(i, j)\n",
    "        if i > 1:\n",
    "            if i == 3:\n",
    "                break"
   ]
  },
  {
   "cell_type": "code",
   "execution_count": null,
   "id": "14881df7-123d-494b-af41-cb842295afe4",
   "metadata": {},
   "outputs": [],
   "source": [
    "a = 1\n",
    "b = 0"
   ]
  },
  {
   "cell_type": "code",
   "execution_count": null,
   "id": "9ac9ab43-587e-446d-b9d2-2067434c8a54",
   "metadata": {},
   "outputs": [],
   "source": [
    "if a:\n",
    "    if b:\n",
    "        print(1)\n",
    "else:\n",
    "    print(2)"
   ]
  }
 ],
 "metadata": {
  "kernelspec": {
   "display_name": "Python 3 (ipykernel)",
   "language": "python",
   "name": "python3"
  },
  "language_info": {
   "codemirror_mode": {
    "name": "ipython",
    "version": 3
   },
   "file_extension": ".py",
   "mimetype": "text/x-python",
   "name": "python",
   "nbconvert_exporter": "python",
   "pygments_lexer": "ipython3",
   "version": "3.10.11"
  }
 },
 "nbformat": 4,
 "nbformat_minor": 5
}
