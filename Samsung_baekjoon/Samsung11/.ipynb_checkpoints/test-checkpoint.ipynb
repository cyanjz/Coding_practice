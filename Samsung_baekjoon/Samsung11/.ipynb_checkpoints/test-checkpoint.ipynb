{
 "cells": [
  {
   "cell_type": "code",
   "execution_count": 1,
   "id": "0078be65-e8eb-47d6-9305-e5fb6aab18a4",
   "metadata": {},
   "outputs": [],
   "source": [
    "import itertools"
   ]
  },
  {
   "cell_type": "code",
   "execution_count": 2,
   "id": "ffba25f1-1137-413e-bfc1-fa37ac082e87",
   "metadata": {},
   "outputs": [
    {
     "data": {
      "text/plain": [
       "\u001b[1;31mInit signature:\u001b[0m \u001b[0mitertools\u001b[0m\u001b[1;33m.\u001b[0m\u001b[0mgroupby\u001b[0m\u001b[1;33m(\u001b[0m\u001b[0miterable\u001b[0m\u001b[1;33m,\u001b[0m \u001b[0mkey\u001b[0m\u001b[1;33m=\u001b[0m\u001b[1;32mNone\u001b[0m\u001b[1;33m)\u001b[0m\u001b[1;33m\u001b[0m\u001b[1;33m\u001b[0m\u001b[0m\n",
       "\u001b[1;31mDocstring:\u001b[0m     \n",
       "make an iterator that returns consecutive keys and groups from the iterable\n",
       "\n",
       "iterable\n",
       "  Elements to divide into groups according to the key function.\n",
       "key\n",
       "  A function for computing the group category for each element.\n",
       "  If the key function is not specified or is None, the element itself\n",
       "  is used for grouping.\n",
       "\u001b[1;31mType:\u001b[0m           type\n",
       "\u001b[1;31mSubclasses:\u001b[0m     \n"
      ]
     },
     "metadata": {},
     "output_type": "display_data"
    }
   ],
   "source": [
    "itertools.groupby?"
   ]
  },
  {
   "cell_type": "code",
   "execution_count": 11,
   "id": "353087f3-2d70-42ff-91f4-0614fc39c62a",
   "metadata": {},
   "outputs": [
    {
     "name": "stdout",
     "output_type": "stream",
     "text": [
      "1\n",
      "2\n",
      "3\n"
     ]
    }
   ],
   "source": [
    "for x in itertools.groupby([1, 2, 3], key = lambda x : 1 if x < 2 else 0):\n",
    "    for _ in x[1]:\n",
    "        print(_)"
   ]
  },
  {
   "cell_type": "code",
   "execution_count": 17,
   "id": "24c285c7-30b9-48be-80c1-c7774e44f6d5",
   "metadata": {},
   "outputs": [
    {
     "data": {
      "text/plain": [
       "\u001b[1;31mInit signature:\u001b[0m \u001b[0mitertools\u001b[0m\u001b[1;33m.\u001b[0m\u001b[0mpairwise\u001b[0m\u001b[1;33m(\u001b[0m\u001b[0miterable\u001b[0m\u001b[1;33m,\u001b[0m \u001b[1;33m/\u001b[0m\u001b[1;33m)\u001b[0m\u001b[1;33m\u001b[0m\u001b[1;33m\u001b[0m\u001b[0m\n",
       "\u001b[1;31mDocstring:\u001b[0m     \n",
       "Return an iterator of overlapping pairs taken from the input iterator.\n",
       "\n",
       "s -> (s0,s1), (s1,s2), (s2, s3), ...\n",
       "\u001b[1;31mType:\u001b[0m           type\n",
       "\u001b[1;31mSubclasses:\u001b[0m     \n"
      ]
     },
     "metadata": {},
     "output_type": "display_data"
    }
   ],
   "source": [
    "itertools."
   ]
  },
  {
   "cell_type": "code",
   "execution_count": null,
   "id": "ce6827e2-168e-48e6-9600-2b858bc4daf2",
   "metadata": {},
   "outputs": [],
   "source": []
  },
  {
   "cell_type": "code",
   "execution_count": 16,
   "id": "8917e108-58d0-47cc-aec9-0c4d54260ebf",
   "metadata": {},
   "outputs": [
    {
     "name": "stdout",
     "output_type": "stream",
     "text": [
      "<itertools.starmap object at 0x000001A9E9EFCA60>\n"
     ]
    }
   ],
   "source": [
    "print(itertools.starmap(lambda x : x[1], [1, 2, 3]))"
   ]
  },
  {
   "cell_type": "code",
   "execution_count": 21,
   "id": "c2431a80-ac60-4c99-b929-2883298bb00b",
   "metadata": {},
   "outputs": [],
   "source": [
    "# combinations을 직접 구현하려면?\n",
    "def combinations(combs, comb, it, N, cs):\n",
    "    if len(comb) == N:\n",
    "        combs.append(comb)\n",
    "        return\n",
    "    for i in range(len(cs)):\n",
    "        if cs[i] == 1:\n",
    "            cs[i] -= 1\n",
    "            combinations(combs, comb + it[i], it, N, cs)\n",
    "            cs[i] += 1\n",
    "    return"
   ]
  },
  {
   "cell_type": "code",
   "execution_count": 22,
   "id": "94e04017-29d6-43b1-8d6c-9848aa9183b7",
   "metadata": {},
   "outputs": [],
   "source": [
    "a = []\n",
    "combinations(a, '', ['a', 'b', 'c', 'd', 'e', 'f'], 3, [1 for _ in range(6)])"
   ]
  },
  {
   "cell_type": "code",
   "execution_count": 24,
   "id": "bca0294f-b566-439e-bb61-74d874a7f8ab",
   "metadata": {},
   "outputs": [
    {
     "data": {
      "text/plain": [
       "120"
      ]
     },
     "execution_count": 24,
     "metadata": {},
     "output_type": "execute_result"
    }
   ],
   "source": [
    "len(a)"
   ]
  },
  {
   "cell_type": "code",
   "execution_count": 25,
   "id": "268440e8-ba21-48f6-abe6-88681c8565bf",
   "metadata": {},
   "outputs": [
    {
     "data": {
      "text/plain": [
       "\u001b[1;31mInit signature:\u001b[0m \u001b[0mitertools\u001b[0m\u001b[1;33m.\u001b[0m\u001b[0mchain\u001b[0m\u001b[1;33m(\u001b[0m\u001b[0mself\u001b[0m\u001b[1;33m,\u001b[0m \u001b[1;33m/\u001b[0m\u001b[1;33m,\u001b[0m \u001b[1;33m*\u001b[0m\u001b[0margs\u001b[0m\u001b[1;33m,\u001b[0m \u001b[1;33m**\u001b[0m\u001b[0mkwargs\u001b[0m\u001b[1;33m)\u001b[0m\u001b[1;33m\u001b[0m\u001b[1;33m\u001b[0m\u001b[0m\n",
       "\u001b[1;31mDocstring:\u001b[0m     \n",
       "chain(*iterables) --> chain object\n",
       "\n",
       "Return a chain object whose .__next__() method returns elements from the\n",
       "first iterable until it is exhausted, then elements from the next\n",
       "iterable, until all of the iterables are exhausted.\n",
       "\u001b[1;31mType:\u001b[0m           type\n",
       "\u001b[1;31mSubclasses:\u001b[0m     \n"
      ]
     },
     "metadata": {},
     "output_type": "display_data"
    }
   ],
   "source": [
    "itertools.chain?"
   ]
  },
  {
   "cell_type": "code",
   "execution_count": 27,
   "id": "865e8187-92a8-49a4-92d4-c10933425fce",
   "metadata": {},
   "outputs": [
    {
     "name": "stdout",
     "output_type": "stream",
     "text": [
      "0\n",
      "1\n",
      "2\n",
      "3\n"
     ]
    }
   ],
   "source": [
    "for x in itertools.chain([0], [1, 2, 3]):\n",
    "    print(x)"
   ]
  },
  {
   "cell_type": "code",
   "execution_count": null,
   "id": "f1577601-ac1b-4bc1-8e12-2a9d998b1700",
   "metadata": {},
   "outputs": [],
   "source": []
  }
 ],
 "metadata": {
  "kernelspec": {
   "display_name": "Python 3 (ipykernel)",
   "language": "python",
   "name": "python3"
  },
  "language_info": {
   "codemirror_mode": {
    "name": "ipython",
    "version": 3
   },
   "file_extension": ".py",
   "mimetype": "text/x-python",
   "name": "python",
   "nbconvert_exporter": "python",
   "pygments_lexer": "ipython3",
   "version": "3.10.11"
  }
 },
 "nbformat": 4,
 "nbformat_minor": 5
}
