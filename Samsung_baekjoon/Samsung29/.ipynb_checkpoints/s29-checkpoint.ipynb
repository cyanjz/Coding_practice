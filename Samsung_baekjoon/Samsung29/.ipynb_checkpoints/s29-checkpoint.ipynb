{
 "cells": [
  {
   "cell_type": "code",
   "execution_count": 1,
   "id": "69045be9-408a-419d-ae77-09c33fefb201",
   "metadata": {},
   "outputs": [
    {
     "ename": "ValueError",
     "evalue": "list.remove(x): x not in list",
     "output_type": "error",
     "traceback": [
      "\u001b[1;31m---------------------------------------------------------------------------\u001b[0m",
      "\u001b[1;31mValueError\u001b[0m                                Traceback (most recent call last)",
      "Cell \u001b[1;32mIn[1], line 2\u001b[0m\n\u001b[0;32m      1\u001b[0m a \u001b[38;5;241m=\u001b[39m [\u001b[38;5;241m1\u001b[39m, \u001b[38;5;241m2\u001b[39m, \u001b[38;5;241m3\u001b[39m]\n\u001b[1;32m----> 2\u001b[0m \u001b[43ma\u001b[49m\u001b[38;5;241;43m.\u001b[39;49m\u001b[43mremove\u001b[49m\u001b[43m(\u001b[49m\u001b[38;5;241;43m0\u001b[39;49m\u001b[43m)\u001b[49m\n",
      "\u001b[1;31mValueError\u001b[0m: list.remove(x): x not in list"
     ]
    }
   ],
   "source": [
    "a = [1, 2, 3]\n",
    "a.remove(0)"
   ]
  },
  {
   "cell_type": "code",
   "execution_count": 3,
   "id": "d239ad3a-d25d-4328-a965-0fc26bbd9c2e",
   "metadata": {},
   "outputs": [
    {
     "name": "stdout",
     "output_type": "stream",
     "text": [
      "[2, 3, 4]\n",
      "[200, 3, 4]\n",
      "[200, 3, 4]\n",
      "[200, 200, 4]\n",
      "[200, 200, 4]\n",
      "[200, 200, 200]\n"
     ]
    }
   ],
   "source": [
    "a = [2, 3, 4]\n",
    "for i, num in enumerate(a):\n",
    "    num = 100\n",
    "    print(a)\n",
    "    a[i] = 200\n",
    "    print(a)"
   ]
  },
  {
   "cell_type": "code",
   "execution_count": 7,
   "id": "e7eb0254-6f2c-4b44-aa64-a2b2d59d550c",
   "metadata": {},
   "outputs": [],
   "source": [
    "a = [[4, 4]] * 4"
   ]
  },
  {
   "cell_type": "code",
   "execution_count": 8,
   "id": "f58a49db-575d-41e9-b1df-7384a0947db0",
   "metadata": {},
   "outputs": [],
   "source": [
    "a[0][0] = 100"
   ]
  },
  {
   "cell_type": "code",
   "execution_count": 9,
   "id": "77ce85da-fab5-46b5-8e18-a4d4448bdd2d",
   "metadata": {},
   "outputs": [
    {
     "data": {
      "text/plain": [
       "[[100, 4], [100, 4], [100, 4], [100, 4]]"
      ]
     },
     "execution_count": 9,
     "metadata": {},
     "output_type": "execute_result"
    }
   ],
   "source": [
    "a"
   ]
  },
  {
   "cell_type": "code",
   "execution_count": 11,
   "id": "775d955e-6226-4ee7-89c4-d464e5b57e06",
   "metadata": {},
   "outputs": [
    {
     "name": "stdout",
     "output_type": "stream",
     "text": [
      "0\n",
      "2\n",
      "4\n",
      "6\n",
      "8\n",
      "10\n",
      "12\n",
      "14\n",
      "16\n",
      "18\n",
      "20\n",
      "22\n",
      "24\n",
      "26\n",
      "28\n",
      "30\n",
      "32\n",
      "34\n",
      "36\n",
      "38\n",
      "40\n"
     ]
    }
   ],
   "source": [
    "for i in range(21):\n",
    "    print(2 * i)"
   ]
  },
  {
   "cell_type": "code",
   "execution_count": 12,
   "id": "f198264e-e2d6-48d1-8330-577d4472819a",
   "metadata": {},
   "outputs": [
    {
     "data": {
      "text/plain": [
       "['__add__',\n",
       " '__class__',\n",
       " '__class_getitem__',\n",
       " '__contains__',\n",
       " '__delattr__',\n",
       " '__delitem__',\n",
       " '__dir__',\n",
       " '__doc__',\n",
       " '__eq__',\n",
       " '__format__',\n",
       " '__ge__',\n",
       " '__getattribute__',\n",
       " '__getitem__',\n",
       " '__gt__',\n",
       " '__hash__',\n",
       " '__iadd__',\n",
       " '__imul__',\n",
       " '__init__',\n",
       " '__init_subclass__',\n",
       " '__iter__',\n",
       " '__le__',\n",
       " '__len__',\n",
       " '__lt__',\n",
       " '__mul__',\n",
       " '__ne__',\n",
       " '__new__',\n",
       " '__reduce__',\n",
       " '__reduce_ex__',\n",
       " '__repr__',\n",
       " '__reversed__',\n",
       " '__rmul__',\n",
       " '__setattr__',\n",
       " '__setitem__',\n",
       " '__sizeof__',\n",
       " '__str__',\n",
       " '__subclasshook__',\n",
       " 'append',\n",
       " 'clear',\n",
       " 'copy',\n",
       " 'count',\n",
       " 'extend',\n",
       " 'index',\n",
       " 'insert',\n",
       " 'pop',\n",
       " 'remove',\n",
       " 'reverse',\n",
       " 'sort']"
      ]
     },
     "execution_count": 12,
     "metadata": {},
     "output_type": "execute_result"
    }
   ],
   "source": [
    "dir(list)"
   ]
  },
  {
   "cell_type": "code",
   "execution_count": 14,
   "id": "30dd815d-9027-45fb-a14f-60b12a0c22df",
   "metadata": {},
   "outputs": [
    {
     "data": {
      "text/plain": [
       "\u001b[1;31mDocstring:\u001b[0m x.__getitem__(y) <==> x[y]\n",
       "\u001b[1;31mType:\u001b[0m      method_descriptor\n"
      ]
     },
     "metadata": {},
     "output_type": "display_data"
    }
   ],
   "source": [
    "list.__getitem__"
   ]
  },
  {
   "cell_type": "code",
   "execution_count": 15,
   "id": "1a6ae9db-f6cd-4ead-9399-b214f4ccf575",
   "metadata": {},
   "outputs": [
    {
     "data": {
      "text/plain": [
       "False"
      ]
     },
     "execution_count": 15,
     "metadata": {},
     "output_type": "execute_result"
    }
   ],
   "source": [
    "1.2 in range(1, 3)"
   ]
  },
  {
   "cell_type": "code",
   "execution_count": 16,
   "id": "3efac3be-5801-4684-ab47-7f9db4a194c9",
   "metadata": {},
   "outputs": [
    {
     "data": {
      "text/plain": [
       "['__add__',\n",
       " '__class__',\n",
       " '__class_getitem__',\n",
       " '__contains__',\n",
       " '__delattr__',\n",
       " '__delitem__',\n",
       " '__dir__',\n",
       " '__doc__',\n",
       " '__eq__',\n",
       " '__format__',\n",
       " '__ge__',\n",
       " '__getattribute__',\n",
       " '__getitem__',\n",
       " '__gt__',\n",
       " '__hash__',\n",
       " '__iadd__',\n",
       " '__imul__',\n",
       " '__init__',\n",
       " '__init_subclass__',\n",
       " '__iter__',\n",
       " '__le__',\n",
       " '__len__',\n",
       " '__lt__',\n",
       " '__mul__',\n",
       " '__ne__',\n",
       " '__new__',\n",
       " '__reduce__',\n",
       " '__reduce_ex__',\n",
       " '__repr__',\n",
       " '__reversed__',\n",
       " '__rmul__',\n",
       " '__setattr__',\n",
       " '__setitem__',\n",
       " '__sizeof__',\n",
       " '__str__',\n",
       " '__subclasshook__',\n",
       " 'append',\n",
       " 'clear',\n",
       " 'copy',\n",
       " 'count',\n",
       " 'extend',\n",
       " 'index',\n",
       " 'insert',\n",
       " 'pop',\n",
       " 'remove',\n",
       " 'reverse',\n",
       " 'sort']"
      ]
     },
     "execution_count": 16,
     "metadata": {},
     "output_type": "execute_result"
    }
   ],
   "source": [
    "dir(list)"
   ]
  },
  {
   "cell_type": "code",
   "execution_count": 1,
   "id": "25165226-a96b-4677-b5ea-cca23a382019",
   "metadata": {},
   "outputs": [],
   "source": [
    "class Node:\n",
    "    def __init__(self, score):\n",
    "        self.red = None\n",
    "        self.blue = None\n",
    "        self.score = score\n",
    "        "
   ]
  },
  {
   "cell_type": "code",
   "execution_count": 2,
   "id": "802d5f09-cf3b-444f-a0c3-b72e7386b321",
   "metadata": {},
   "outputs": [],
   "source": [
    "a = Node(1)"
   ]
  },
  {
   "cell_type": "code",
   "execution_count": 3,
   "id": "721cae10-092c-40b4-8dc2-ccd6ab39a918",
   "metadata": {},
   "outputs": [],
   "source": [
    "b = Node(2)"
   ]
  },
  {
   "cell_type": "code",
   "execution_count": 4,
   "id": "0f534860-6fcb-4134-b8dc-f52d355baf6f",
   "metadata": {},
   "outputs": [],
   "source": [
    "c = Node(3)"
   ]
  },
  {
   "cell_type": "code",
   "execution_count": 5,
   "id": "6d6579dd-0235-4d1e-8ca6-967a1a1493f5",
   "metadata": {},
   "outputs": [],
   "source": [
    "d = Node(4)"
   ]
  },
  {
   "cell_type": "code",
   "execution_count": 6,
   "id": "88744e4e-43ef-4736-a349-41e83b7dec6c",
   "metadata": {},
   "outputs": [],
   "source": [
    "a.red = b"
   ]
  },
  {
   "cell_type": "code",
   "execution_count": 7,
   "id": "d00ecc11-702e-4822-8d32-0a1bf8917e66",
   "metadata": {},
   "outputs": [],
   "source": [
    "b.red = c"
   ]
  },
  {
   "cell_type": "code",
   "execution_count": 8,
   "id": "3d7155f7-e3d8-43ef-aca8-ecce7ce87ffc",
   "metadata": {},
   "outputs": [],
   "source": [
    "a.blue = d"
   ]
  },
  {
   "cell_type": "code",
   "execution_count": 9,
   "id": "069f4dcd-7d80-4c81-8582-bc66027101c0",
   "metadata": {},
   "outputs": [],
   "source": [
    "c.red = d"
   ]
  },
  {
   "cell_type": "code",
   "execution_count": 13,
   "id": "f4223b40-81d8-4798-a081-5e7dc35c9924",
   "metadata": {},
   "outputs": [
    {
     "data": {
      "text/plain": [
       "<__main__.Node at 0x1528554ffa0>"
      ]
     },
     "execution_count": 13,
     "metadata": {},
     "output_type": "execute_result"
    }
   ],
   "source": [
    "a.blue"
   ]
  },
  {
   "cell_type": "code",
   "execution_count": 14,
   "id": "32504bde-766b-4c96-87fe-01f5049e6643",
   "metadata": {},
   "outputs": [
    {
     "data": {
      "text/plain": [
       "<__main__.Node at 0x1528554ffa0>"
      ]
     },
     "execution_count": 14,
     "metadata": {},
     "output_type": "execute_result"
    }
   ],
   "source": [
    "a.red.red.red"
   ]
  },
  {
   "cell_type": "code",
   "execution_count": 15,
   "id": "da8c1064-8c7d-496c-bc62-274f15c5e8c5",
   "metadata": {},
   "outputs": [
    {
     "data": {
      "text/plain": [
       "True"
      ]
     },
     "execution_count": 15,
     "metadata": {},
     "output_type": "execute_result"
    }
   ],
   "source": [
    "a.red.red.red == a.blue"
   ]
  },
  {
   "cell_type": "code",
   "execution_count": 16,
   "id": "98dd494c-f2ca-4eed-b9b3-14bda652d77a",
   "metadata": {},
   "outputs": [],
   "source": [
    "base_line = [Node(3) for _ in range(3)]"
   ]
  },
  {
   "cell_type": "code",
   "execution_count": 17,
   "id": "5dd0db65-a6bd-4d7e-884d-82c651628034",
   "metadata": {},
   "outputs": [],
   "source": [
    "for i in range(2):\n",
    "    base_line[i].red = base_line[i+1]"
   ]
  },
  {
   "cell_type": "code",
   "execution_count": 18,
   "id": "e79edaa6-12bc-478b-9bef-61e808d4f418",
   "metadata": {},
   "outputs": [
    {
     "data": {
      "text/plain": [
       "<__main__.Node at 0x1528554e6e0>"
      ]
     },
     "execution_count": 18,
     "metadata": {},
     "output_type": "execute_result"
    }
   ],
   "source": [
    "base_line[0].red"
   ]
  },
  {
   "cell_type": "code",
   "execution_count": 19,
   "id": "9ec2fc20-fd84-4330-ba57-ade5d1542ee1",
   "metadata": {},
   "outputs": [
    {
     "data": {
      "text/plain": [
       "<__main__.Node at 0x1528554e6e0>"
      ]
     },
     "execution_count": 19,
     "metadata": {},
     "output_type": "execute_result"
    }
   ],
   "source": [
    "base_line[1]"
   ]
  },
  {
   "cell_type": "code",
   "execution_count": 20,
   "id": "3695c603-79b3-45c2-86c8-b1d90717489a",
   "metadata": {},
   "outputs": [],
   "source": [
    "a = base_line[0]"
   ]
  },
  {
   "cell_type": "code",
   "execution_count": 21,
   "id": "59a5521b-3912-4c4f-b561-cf1facc5d132",
   "metadata": {},
   "outputs": [
    {
     "data": {
      "text/plain": [
       "<__main__.Node at 0x1528554ea40>"
      ]
     },
     "execution_count": 21,
     "metadata": {},
     "output_type": "execute_result"
    }
   ],
   "source": [
    "a"
   ]
  },
  {
   "cell_type": "code",
   "execution_count": 22,
   "id": "37f9f28e-38bb-487d-bfa5-a1e7d75fab29",
   "metadata": {},
   "outputs": [
    {
     "data": {
      "text/plain": [
       "<__main__.Node at 0x1528554ea40>"
      ]
     },
     "execution_count": 22,
     "metadata": {},
     "output_type": "execute_result"
    }
   ],
   "source": [
    "base_line[0]"
   ]
  },
  {
   "cell_type": "code",
   "execution_count": null,
   "id": "2b9471cf-898f-49b1-9314-53133e0fd363",
   "metadata": {},
   "outputs": [],
   "source": []
  }
 ],
 "metadata": {
  "kernelspec": {
   "display_name": "Python 3 (ipykernel)",
   "language": "python",
   "name": "python3"
  },
  "language_info": {
   "codemirror_mode": {
    "name": "ipython",
    "version": 3
   },
   "file_extension": ".py",
   "mimetype": "text/x-python",
   "name": "python",
   "nbconvert_exporter": "python",
   "pygments_lexer": "ipython3",
   "version": "3.10.11"
  }
 },
 "nbformat": 4,
 "nbformat_minor": 5
}
