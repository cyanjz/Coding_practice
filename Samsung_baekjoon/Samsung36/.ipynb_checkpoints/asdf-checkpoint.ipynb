{
 "cells": [
  {
   "cell_type": "code",
   "execution_count": 1,
   "id": "bbca315d-4b0c-48aa-b520-3beb3d53c81f",
   "metadata": {},
   "outputs": [
    {
     "data": {
      "text/plain": [
       "1"
      ]
     },
     "execution_count": 1,
     "metadata": {},
     "output_type": "execute_result"
    }
   ],
   "source": [
    "int(1.1)"
   ]
  },
  {
   "cell_type": "code",
   "execution_count": 3,
   "id": "dbb03789-0f50-401d-946f-878dcbd4ea46",
   "metadata": {},
   "outputs": [
    {
     "data": {
      "text/plain": [
       "False"
      ]
     },
     "execution_count": 3,
     "metadata": {},
     "output_type": "execute_result"
    }
   ],
   "source": [
    "'a' == int"
   ]
  },
  {
   "cell_type": "code",
   "execution_count": 5,
   "id": "362e22a4-e9ad-410b-92f2-6e85cb9e229a",
   "metadata": {},
   "outputs": [
    {
     "name": "stderr",
     "output_type": "stream",
     "text": [
      "<>:1: SyntaxWarning: \"is\" with a literal. Did you mean \"==\"?\n",
      "<>:1: SyntaxWarning: \"is\" with a literal. Did you mean \"==\"?\n",
      "C:\\Users\\0zx0\\AppData\\Local\\Temp\\ipykernel_18244\\2086282028.py:1: SyntaxWarning: \"is\" with a literal. Did you mean \"==\"?\n",
      "  2 is int\n"
     ]
    },
    {
     "data": {
      "text/plain": [
       "False"
      ]
     },
     "execution_count": 5,
     "metadata": {},
     "output_type": "execute_result"
    }
   ],
   "source": [
    "2 is int"
   ]
  },
  {
   "cell_type": "code",
   "execution_count": 7,
   "id": "93a1e8b0-f3c5-495c-8670-d775838fc403",
   "metadata": {},
   "outputs": [
    {
     "data": {
      "text/plain": [
       "int"
      ]
     },
     "execution_count": 7,
     "metadata": {},
     "output_type": "execute_result"
    }
   ],
   "source": [
    "type(10)"
   ]
  },
  {
   "cell_type": "code",
   "execution_count": 8,
   "id": "f11a81a0-8550-4d80-b81d-78982c59ff98",
   "metadata": {},
   "outputs": [],
   "source": [
    "a = [1, 2, 3]\n",
    "def test():\n",
    "    print(a[0])\n",
    "    return"
   ]
  },
  {
   "cell_type": "code",
   "execution_count": 9,
   "id": "ea4b9192-a6b7-4b94-8a13-fdb05dff5819",
   "metadata": {},
   "outputs": [
    {
     "name": "stdout",
     "output_type": "stream",
     "text": [
      "1\n"
     ]
    }
   ],
   "source": [
    "test()"
   ]
  },
  {
   "cell_type": "code",
   "execution_count": 12,
   "id": "45780125-ab93-4d31-a785-2b0153427ae3",
   "metadata": {},
   "outputs": [],
   "source": [
    "N = 5\n",
    "\n",
    "\n",
    "board = [[1] * 5 for _ in range(N)]\n",
    "board = [[0] * N] + [[0] * N] + board + [[0] * N] + [[0] * N]\n",
    "board = [[0] * 2 + row + [0] * 2 for row in board]"
   ]
  },
  {
   "cell_type": "code",
   "execution_count": 13,
   "id": "abb4a773-bf58-4c51-8397-30fc695b3efc",
   "metadata": {},
   "outputs": [
    {
     "data": {
      "text/plain": [
       "[[0, 0, 0, 0, 0, 0, 0, 0, 0],\n",
       " [0, 0, 0, 0, 0, 0, 0, 0, 0],\n",
       " [0, 0, 1, 1, 1, 1, 1, 0, 0],\n",
       " [0, 0, 1, 1, 1, 1, 1, 0, 0],\n",
       " [0, 0, 1, 1, 1, 1, 1, 0, 0],\n",
       " [0, 0, 1, 1, 1, 1, 1, 0, 0],\n",
       " [0, 0, 1, 1, 1, 1, 1, 0, 0],\n",
       " [0, 0, 0, 0, 0, 0, 0, 0, 0],\n",
       " [0, 0, 0, 0, 0, 0, 0, 0, 0]]"
      ]
     },
     "execution_count": 13,
     "metadata": {},
     "output_type": "execute_result"
    }
   ],
   "source": [
    "board"
   ]
  },
  {
   "cell_type": "code",
   "execution_count": null,
   "id": "7f0dfdd2-e28e-4dc5-993d-9e97a21232ea",
   "metadata": {},
   "outputs": [],
   "source": []
  }
 ],
 "metadata": {
  "kernelspec": {
   "display_name": "Python 3 (ipykernel)",
   "language": "python",
   "name": "python3"
  },
  "language_info": {
   "codemirror_mode": {
    "name": "ipython",
    "version": 3
   },
   "file_extension": ".py",
   "mimetype": "text/x-python",
   "name": "python",
   "nbconvert_exporter": "python",
   "pygments_lexer": "ipython3",
   "version": "3.10.11"
  }
 },
 "nbformat": 4,
 "nbformat_minor": 5
}
