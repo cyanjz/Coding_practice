{
 "cells": [
  {
   "cell_type": "code",
   "execution_count": 1,
   "id": "5a51e2eb-f85d-4410-ab2f-dd9f3d19bf46",
   "metadata": {},
   "outputs": [],
   "source": [
    "a = [1, 2, 3]\n",
    "b = a[1]"
   ]
  },
  {
   "cell_type": "code",
   "execution_count": 2,
   "id": "8a9ce71f-0a3b-42a6-9656-ec972fd3f34d",
   "metadata": {},
   "outputs": [],
   "source": [
    "a[1] = 4"
   ]
  },
  {
   "cell_type": "code",
   "execution_count": 3,
   "id": "10a853ac-30b5-43e0-87f9-bb70fb67026a",
   "metadata": {},
   "outputs": [
    {
     "data": {
      "text/plain": [
       "2"
      ]
     },
     "execution_count": 3,
     "metadata": {},
     "output_type": "execute_result"
    }
   ],
   "source": [
    "b"
   ]
  },
  {
   "cell_type": "code",
   "execution_count": 5,
   "id": "9183a304-1a34-456c-920a-6b9bd2acab97",
   "metadata": {},
   "outputs": [],
   "source": [
    "from collections import deque\n",
    "c = deque(a)"
   ]
  },
  {
   "cell_type": "code",
   "execution_count": 6,
   "id": "68b0c243-b28a-44f2-b939-a65f0aa8b048",
   "metadata": {},
   "outputs": [],
   "source": [
    "c[1] = 100"
   ]
  },
  {
   "cell_type": "code",
   "execution_count": 7,
   "id": "3fb4e61f-5fb8-4e5e-839f-35813c1e2437",
   "metadata": {},
   "outputs": [
    {
     "data": {
      "text/plain": [
       "deque([1, 100, 3])"
      ]
     },
     "execution_count": 7,
     "metadata": {},
     "output_type": "execute_result"
    }
   ],
   "source": [
    "c"
   ]
  },
  {
   "cell_type": "code",
   "execution_count": 8,
   "id": "cf225d6b-748a-446b-8f61-e00f0ce82f23",
   "metadata": {},
   "outputs": [],
   "source": [
    "col = [[0] * 4]"
   ]
  },
  {
   "cell_type": "code",
   "execution_count": null,
   "id": "f1f72d01-f52e-46c9-828a-922c764148b4",
   "metadata": {},
   "outputs": [],
   "source": [
    "row = [[0], col[1], col[2], [0]]"
   ]
  }
 ],
 "metadata": {
  "kernelspec": {
   "display_name": "Python 3 (ipykernel)",
   "language": "python",
   "name": "python3"
  },
  "language_info": {
   "codemirror_mode": {
    "name": "ipython",
    "version": 3
   },
   "file_extension": ".py",
   "mimetype": "text/x-python",
   "name": "python",
   "nbconvert_exporter": "python",
   "pygments_lexer": "ipython3",
   "version": "3.10.11"
  }
 },
 "nbformat": 4,
 "nbformat_minor": 5
}
