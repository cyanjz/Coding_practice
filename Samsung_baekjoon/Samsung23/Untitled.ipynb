{
 "cells": [
  {
   "cell_type": "code",
   "execution_count": 5,
   "id": "f82038ba-a4cb-4dca-b3e4-117a20d6c0e6",
   "metadata": {},
   "outputs": [],
   "source": [
    "a = 1"
   ]
  },
  {
   "cell_type": "code",
   "execution_count": 6,
   "id": "603c19cc-326e-4272-8b05-d61b1ea30e52",
   "metadata": {},
   "outputs": [],
   "source": [
    "b = not a"
   ]
  },
  {
   "cell_type": "code",
   "execution_count": 7,
   "id": "4115b940-2e23-4014-84e1-83825636d5ac",
   "metadata": {},
   "outputs": [
    {
     "data": {
      "text/plain": [
       "False"
      ]
     },
     "execution_count": 7,
     "metadata": {},
     "output_type": "execute_result"
    }
   ],
   "source": [
    "b"
   ]
  },
  {
   "cell_type": "code",
   "execution_count": null,
   "id": "85561e4f-f422-45a8-9708-1e244dc4fff1",
   "metadata": {},
   "outputs": [],
   "source": []
  }
 ],
 "metadata": {
  "kernelspec": {
   "display_name": "Python 3 (ipykernel)",
   "language": "python",
   "name": "python3"
  },
  "language_info": {
   "codemirror_mode": {
    "name": "ipython",
    "version": 3
   },
   "file_extension": ".py",
   "mimetype": "text/x-python",
   "name": "python",
   "nbconvert_exporter": "python",
   "pygments_lexer": "ipython3",
   "version": "3.10.11"
  }
 },
 "nbformat": 4,
 "nbformat_minor": 5
}
