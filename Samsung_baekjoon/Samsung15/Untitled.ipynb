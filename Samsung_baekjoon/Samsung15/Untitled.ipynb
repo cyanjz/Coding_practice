{
 "cells": [
  {
   "cell_type": "code",
   "execution_count": 1,
   "id": "1b06484a-61e9-4b65-ae40-6cefa53a5798",
   "metadata": {},
   "outputs": [],
   "source": [
    "for i in range(4, 3):\n",
    "    print(i)"
   ]
  },
  {
   "cell_type": "code",
   "execution_count": 3,
   "id": "bf96bcb2-a11c-4bd5-bdd6-e3a15c8d3b89",
   "metadata": {},
   "outputs": [
    {
     "name": "stdout",
     "output_type": "stream",
     "text": [
      "-2\n",
      "-1\n"
     ]
    }
   ],
   "source": [
    "for i in range(-2, 0):\n",
    "    print(i)\n",
    "# 첫번째만 확인."
   ]
  },
  {
   "cell_type": "code",
   "execution_count": 4,
   "id": "972763d6-372a-4ac1-9863-08dac4469386",
   "metadata": {},
   "outputs": [],
   "source": [
    "from copy import deepcopy"
   ]
  },
  {
   "cell_type": "code",
   "execution_count": 5,
   "id": "7100150a-aaa3-4f79-b41d-dd2dacd57a3e",
   "metadata": {},
   "outputs": [
    {
     "data": {
      "text/plain": [
       "[1, 2, 3]"
      ]
     },
     "execution_count": 5,
     "metadata": {},
     "output_type": "execute_result"
    }
   ],
   "source": [
    "deepcopy([1, 2 ,3])"
   ]
  },
  {
   "cell_type": "code",
   "execution_count": 7,
   "id": "730bbfb9-ed30-4399-b006-84a1eb71fca3",
   "metadata": {},
   "outputs": [
    {
     "data": {
      "text/plain": [
       "[0, 1, 2, 3, 0]"
      ]
     },
     "execution_count": 7,
     "metadata": {},
     "output_type": "execute_result"
    }
   ],
   "source": [
    "[0] + [1, 2, 3]  +[0]"
   ]
  },
  {
   "cell_type": "code",
   "execution_count": 8,
   "id": "b9cc02e2-d197-4ac0-aa3e-971b1da27600",
   "metadata": {},
   "outputs": [],
   "source": [
    "a = [1, 2, 3, 4, 5, 6, 7]"
   ]
  },
  {
   "cell_type": "code",
   "execution_count": 9,
   "id": "f1235a71-763f-4742-97aa-686501219c32",
   "metadata": {},
   "outputs": [
    {
     "name": "stdout",
     "output_type": "stream",
     "text": [
      "0 2\n",
      "1 3\n",
      "2 4\n",
      "3 5\n",
      "4 6\n"
     ]
    }
   ],
   "source": [
    "for i, j in enumerate(a[1:-1]):\n",
    "    print(i, j)"
   ]
  },
  {
   "cell_type": "code",
   "execution_count": 10,
   "id": "dad05e8b-90e3-4e9c-8bc5-db428394a883",
   "metadata": {},
   "outputs": [
    {
     "name": "stdout",
     "output_type": "stream",
     "text": [
      "(1, 3)\n",
      "(2, 4)\n"
     ]
    }
   ],
   "source": [
    "for i in zip([1, 2], [3, 4]):"
   ]
  },
  {
   "cell_type": "code",
   "execution_count": null,
   "id": "f7021fbf-c509-4d96-9315-7b394d95abbf",
   "metadata": {},
   "outputs": [],
   "source": []
  }
 ],
 "metadata": {
  "kernelspec": {
   "display_name": "Python 3 (ipykernel)",
   "language": "python",
   "name": "python3"
  },
  "language_info": {
   "codemirror_mode": {
    "name": "ipython",
    "version": 3
   },
   "file_extension": ".py",
   "mimetype": "text/x-python",
   "name": "python",
   "nbconvert_exporter": "python",
   "pygments_lexer": "ipython3",
   "version": "3.10.11"
  }
 },
 "nbformat": 4,
 "nbformat_minor": 5
}
