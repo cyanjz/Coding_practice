{
 "cells": [
  {
   "cell_type": "code",
   "execution_count": 1,
   "id": "6b195f32-7069-4774-96ff-0a43b5df3bbd",
   "metadata": {},
   "outputs": [],
   "source": [
    "from itertools import groupby"
   ]
  },
  {
   "cell_type": "code",
   "execution_count": 21,
   "id": "9a0d2bc6-4458-4479-98fa-812cbd39b196",
   "metadata": {},
   "outputs": [],
   "source": [
    "a = [(x[0], list(x[1])) for x in groupby(([1, 2], [1, 3], [0, 1], [0, 3]), lambda x : x[0])]"
   ]
  },
  {
   "cell_type": "code",
   "execution_count": 22,
   "id": "2aa1c765-24a8-47c4-a9c2-8b727ee1bc82",
   "metadata": {},
   "outputs": [
    {
     "data": {
      "text/plain": [
       "[(1, [[1, 2], [1, 3]]), (0, [[0, 1], [0, 3]])]"
      ]
     },
     "execution_count": 22,
     "metadata": {},
     "output_type": "execute_result"
    }
   ],
   "source": [
    "a"
   ]
  },
  {
   "cell_type": "code",
   "execution_count": 20,
   "id": "39534320-fc44-4e1b-8b8b-7b8a11a63fa0",
   "metadata": {},
   "outputs": [
    {
     "name": "stdout",
     "output_type": "stream",
     "text": [
      "(1, <itertools._grouper object at 0x0000020FB474EA70>)\n",
      "(0, <itertools._grouper object at 0x0000020FB474DEA0>)\n"
     ]
    }
   ],
   "source": [
    "for x in a:\n",
    "    print(x)"
   ]
  },
  {
   "cell_type": "code",
   "execution_count": 23,
   "id": "48f5ad46-4de2-41cb-b6c1-fdff904051ab",
   "metadata": {},
   "outputs": [],
   "source": [
    "from collections import defaultdict"
   ]
  },
  {
   "cell_type": "code",
   "execution_count": 25,
   "id": "20e5a086-6259-46a6-bf30-4fc71b11aa97",
   "metadata": {},
   "outputs": [
    {
     "ename": "TypeError",
     "evalue": "first argument must be callable or None",
     "output_type": "error",
     "traceback": [
      "\u001b[1;31m---------------------------------------------------------------------------\u001b[0m",
      "\u001b[1;31mTypeError\u001b[0m                                 Traceback (most recent call last)",
      "Cell \u001b[1;32mIn[25], line 1\u001b[0m\n\u001b[1;32m----> 1\u001b[0m a \u001b[38;5;241m=\u001b[39m \u001b[43mdefaultdict\u001b[49m\u001b[43m(\u001b[49m\u001b[43m{\u001b[49m\u001b[38;5;241;43m1\u001b[39;49m\u001b[43m \u001b[49m\u001b[43m:\u001b[49m\u001b[43m \u001b[49m\u001b[38;5;241;43m3\u001b[39;49m\u001b[43m,\u001b[49m\u001b[43m \u001b[49m\u001b[38;5;241;43m2\u001b[39;49m\u001b[43m \u001b[49m\u001b[43m:\u001b[49m\u001b[43m \u001b[49m\u001b[38;5;241;43m4\u001b[39;49m\u001b[43m}\u001b[49m\u001b[43m)\u001b[49m\n",
      "\u001b[1;31mTypeError\u001b[0m: first argument must be callable or None"
     ]
    }
   ],
   "source": [
    "a = defaultdict({1 : 3, 2 : 4})"
   ]
  },
  {
   "cell_type": "code",
   "execution_count": 33,
   "id": "11b30187-01eb-4685-800a-d6be963d943c",
   "metadata": {},
   "outputs": [],
   "source": [
    "a = defaultdict(list)"
   ]
  },
  {
   "cell_type": "code",
   "execution_count": 34,
   "id": "59c01c64-1575-495a-be4c-9e4a5139171e",
   "metadata": {},
   "outputs": [],
   "source": [
    "a[0].append([1, 2])"
   ]
  },
  {
   "cell_type": "code",
   "execution_count": 35,
   "id": "9c930bf9-4aef-4388-a093-8d91796dc1ac",
   "metadata": {},
   "outputs": [
    {
     "data": {
      "text/plain": [
       "[[1, 2]]"
      ]
     },
     "execution_count": 35,
     "metadata": {},
     "output_type": "execute_result"
    }
   ],
   "source": [
    "a[0]"
   ]
  },
  {
   "cell_type": "code",
   "execution_count": 36,
   "id": "59bb0040-a988-46ae-9df9-fe28088da1f8",
   "metadata": {},
   "outputs": [],
   "source": [
    "from copy import deepcopy"
   ]
  },
  {
   "cell_type": "code",
   "execution_count": 37,
   "id": "e3d533c2-17c7-479d-beec-f3f831155208",
   "metadata": {},
   "outputs": [],
   "source": [
    "b = deepcopy(a)"
   ]
  },
  {
   "cell_type": "code",
   "execution_count": 38,
   "id": "d94cbe20-73d4-44fb-ad2c-d0f5f2ce4fe6",
   "metadata": {},
   "outputs": [
    {
     "data": {
      "text/plain": [
       "defaultdict(list, {0: [[1, 2]]})"
      ]
     },
     "execution_count": 38,
     "metadata": {},
     "output_type": "execute_result"
    }
   ],
   "source": [
    "b"
   ]
  },
  {
   "cell_type": "code",
   "execution_count": 39,
   "id": "78873b96-1740-4d1b-b4cc-e5d8f9c2b7e3",
   "metadata": {},
   "outputs": [],
   "source": [
    "b[1] = 3"
   ]
  },
  {
   "cell_type": "code",
   "execution_count": 40,
   "id": "8800481d-67cc-4d32-b2a1-0c24f5240823",
   "metadata": {},
   "outputs": [
    {
     "data": {
      "text/plain": [
       "defaultdict(list, {0: [[1, 2]], 1: 3})"
      ]
     },
     "execution_count": 40,
     "metadata": {},
     "output_type": "execute_result"
    }
   ],
   "source": [
    "b"
   ]
  },
  {
   "cell_type": "code",
   "execution_count": 41,
   "id": "804711e0-bb72-4edc-ab4c-80e6568c11a0",
   "metadata": {},
   "outputs": [
    {
     "data": {
      "text/plain": [
       "defaultdict(list, {0: [[1, 2]]})"
      ]
     },
     "execution_count": 41,
     "metadata": {},
     "output_type": "execute_result"
    }
   ],
   "source": [
    "a"
   ]
  },
  {
   "cell_type": "code",
   "execution_count": 42,
   "id": "5026a4cc-c982-4f4c-9a5f-9185aae8040a",
   "metadata": {},
   "outputs": [],
   "source": [
    "from itertools import combinations"
   ]
  },
  {
   "cell_type": "code",
   "execution_count": 45,
   "id": "a6232641-5d4e-4c8d-bd28-851f8511238b",
   "metadata": {},
   "outputs": [
    {
     "name": "stdout",
     "output_type": "stream",
     "text": [
      "()\n"
     ]
    }
   ],
   "source": [
    "for x in combinations((1, 2, 3, 4, 5), 0):\n",
    "    print(x)"
   ]
  },
  {
   "cell_type": "code",
   "execution_count": 47,
   "id": "4f17d339-6d0e-4433-8aa2-8efeae663c38",
   "metadata": {},
   "outputs": [
    {
     "name": "stdout",
     "output_type": "stream",
     "text": [
      "() 0\n",
      "((1, 0),) 1\n",
      "((2, 0),) 1\n",
      "((1, 0), (2, 0)) 2\n"
     ]
    }
   ],
   "source": [
    "for i in range(4):\n",
    "    for j in combinations([(1, 0), (2, 0)], i):\n",
    "        print(j, i)"
   ]
  },
  {
   "cell_type": "code",
   "execution_count": 49,
   "id": "8f1b460d-fc4c-412c-a336-8deda1fd15b4",
   "metadata": {},
   "outputs": [],
   "source": [
    "a = [(k, list(v)) for k, v in groupby([(0, 0), (2, 1), (0, 2), (1, 4), (4, 4)], lambda x : x[0])]"
   ]
  },
  {
   "cell_type": "code",
   "execution_count": 50,
   "id": "9d9faca8-5e97-4025-b801-cab80cbf91fb",
   "metadata": {},
   "outputs": [
    {
     "data": {
      "text/plain": [
       "[(0, [(0, 0)]), (2, [(2, 1)]), (0, [(0, 2)]), (1, [(1, 4)]), (4, [(4, 4)])]"
      ]
     },
     "execution_count": 50,
     "metadata": {},
     "output_type": "execute_result"
    }
   ],
   "source": [
    "a"
   ]
  },
  {
   "cell_type": "code",
   "execution_count": 3,
   "id": "479a2b43-f776-40e4-a7d2-c82783cc2927",
   "metadata": {},
   "outputs": [],
   "source": [
    "a = 1 if 1+1 == 3 else 0"
   ]
  },
  {
   "cell_type": "code",
   "execution_count": 4,
   "id": "769f716d-c868-4936-bc6a-498d6db6649c",
   "metadata": {},
   "outputs": [
    {
     "data": {
      "text/plain": [
       "0"
      ]
     },
     "execution_count": 4,
     "metadata": {},
     "output_type": "execute_result"
    }
   ],
   "source": [
    "a"
   ]
  },
  {
   "cell_type": "code",
   "execution_count": 7,
   "id": "34af0ab1-2f0e-40c0-bb8c-27fa9db22b90",
   "metadata": {
    "scrolled": true
   },
   "outputs": [
    {
     "name": "stdout",
     "output_type": "stream",
     "text": [
      "0 0\n",
      "0 1\n",
      "0 2\n",
      "0 3\n",
      "0 4\n",
      "0 5\n",
      "0 6\n",
      "0 7\n",
      "0 8\n",
      "0 9\n",
      "1 1\n",
      "1 2\n",
      "1 3\n",
      "1 4\n",
      "1 5\n",
      "1 6\n",
      "1 7\n",
      "1 8\n",
      "1 9\n",
      "3 3\n",
      "3 4\n",
      "3 5\n",
      "3 6\n",
      "3 7\n",
      "3 8\n",
      "3 9\n",
      "4 4\n",
      "4 5\n",
      "4 6\n",
      "4 7\n",
      "4 8\n",
      "4 9\n",
      "5 5\n",
      "5 6\n",
      "5 7\n",
      "5 8\n",
      "5 9\n",
      "6 6\n",
      "6 7\n",
      "6 8\n",
      "6 9\n",
      "7 7\n",
      "7 8\n",
      "7 9\n",
      "8 8\n",
      "8 9\n",
      "9 9\n"
     ]
    }
   ],
   "source": [
    "for i in range(10):\n",
    "    if i == 2:\n",
    "        continue\n",
    "    for j in range(i, 10):\n",
    "        print(i, j)"
   ]
  },
  {
   "cell_type": "code",
   "execution_count": 8,
   "id": "2e9064b1-0ffb-4b46-9d34-a90df6ff15aa",
   "metadata": {},
   "outputs": [],
   "source": [
    "a = [1, 2 ,3]"
   ]
  },
  {
   "cell_type": "code",
   "execution_count": 9,
   "id": "b954a0ee-1f4c-440a-a735-196b00ac8812",
   "metadata": {},
   "outputs": [
    {
     "data": {
      "text/plain": [
       "\u001b[1;31mSignature:\u001b[0m \u001b[0ma\u001b[0m\u001b[1;33m.\u001b[0m\u001b[0mcount\u001b[0m\u001b[1;33m(\u001b[0m\u001b[0mvalue\u001b[0m\u001b[1;33m,\u001b[0m \u001b[1;33m/\u001b[0m\u001b[1;33m)\u001b[0m\u001b[1;33m\u001b[0m\u001b[1;33m\u001b[0m\u001b[0m\n",
       "\u001b[1;31mDocstring:\u001b[0m Return number of occurrences of value.\n",
       "\u001b[1;31mType:\u001b[0m      builtin_function_or_method\n"
      ]
     },
     "metadata": {},
     "output_type": "display_data"
    }
   ],
   "source": [
    "a.count?"
   ]
  },
  {
   "cell_type": "code",
   "execution_count": null,
   "id": "25d7d9f6-74d7-4fc9-9d77-c26d4e9344b4",
   "metadata": {},
   "outputs": [],
   "source": []
  }
 ],
 "metadata": {
  "kernelspec": {
   "display_name": "Python 3 (ipykernel)",
   "language": "python",
   "name": "python3"
  },
  "language_info": {
   "codemirror_mode": {
    "name": "ipython",
    "version": 3
   },
   "file_extension": ".py",
   "mimetype": "text/x-python",
   "name": "python",
   "nbconvert_exporter": "python",
   "pygments_lexer": "ipython3",
   "version": "3.10.11"
  }
 },
 "nbformat": 4,
 "nbformat_minor": 5
}
