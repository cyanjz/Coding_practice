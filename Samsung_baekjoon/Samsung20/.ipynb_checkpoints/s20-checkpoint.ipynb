{
 "cells": [
  {
   "cell_type": "code",
   "execution_count": 1,
   "id": "fc4ea4b7-5a7c-4af5-a54d-c42e98cac58f",
   "metadata": {},
   "outputs": [
    {
     "name": "stdout",
     "output_type": "stream",
     "text": [
      "-1\n",
      "1\n"
     ]
    }
   ],
   "source": [
    "for i in range(-1, 2, 2):\n",
    "    print(i)"
   ]
  },
  {
   "cell_type": "code",
   "execution_count": 5,
   "id": "9b87958c-068e-41ac-a855-e54c3e4f5ce9",
   "metadata": {},
   "outputs": [
    {
     "name": "stdout",
     "output_type": "stream",
     "text": [
      "1\n"
     ]
    }
   ],
   "source": [
    "if (-10 <= 2, 20 <= 10):\n",
    "    print(1)\n"
   ]
  },
  {
   "cell_type": "code",
   "execution_count": 24,
   "id": "f4c95980-b5a9-41ee-b969-038e922794af",
   "metadata": {},
   "outputs": [],
   "source": [
    "a = {0 : [3, 2, 1]}"
   ]
  },
  {
   "cell_type": "code",
   "execution_count": 25,
   "id": "69baf762-0de8-47dc-b8e8-86a3bb583619",
   "metadata": {},
   "outputs": [
    {
     "data": {
      "text/plain": [
       "{0: [3, 2, 1]}"
      ]
     },
     "execution_count": 25,
     "metadata": {},
     "output_type": "execute_result"
    }
   ],
   "source": [
    "a"
   ]
  },
  {
   "cell_type": "code",
   "execution_count": 26,
   "id": "29d8daa7-9dd2-4aac-8a9f-1a451d30348b",
   "metadata": {},
   "outputs": [],
   "source": [
    "for v in a.values():\n",
    "    v = [4, 5, 6]"
   ]
  },
  {
   "cell_type": "code",
   "execution_count": 27,
   "id": "84844896-2c20-4089-b2fb-1eddddcab383",
   "metadata": {},
   "outputs": [
    {
     "data": {
      "text/plain": [
       "{0: [3, 2, 1]}"
      ]
     },
     "execution_count": 27,
     "metadata": {},
     "output_type": "execute_result"
    }
   ],
   "source": [
    "a"
   ]
  },
  {
   "cell_type": "code",
   "execution_count": 28,
   "id": "eb7f82ce-d0be-4d8d-aaab-0bbea9b372a2",
   "metadata": {},
   "outputs": [],
   "source": [
    "a = [_ for _ in range(5)]"
   ]
  },
  {
   "cell_type": "code",
   "execution_count": 29,
   "id": "b196cc7d-ffe6-4899-82b2-8fb685a00224",
   "metadata": {},
   "outputs": [
    {
     "data": {
      "text/plain": [
       "[0, 1, 2, 3, 4]"
      ]
     },
     "execution_count": 29,
     "metadata": {},
     "output_type": "execute_result"
    }
   ],
   "source": [
    "a"
   ]
  },
  {
   "cell_type": "code",
   "execution_count": 41,
   "id": "e8ceb3ef-a479-477c-9768-651085df15fb",
   "metadata": {},
   "outputs": [
    {
     "data": {
      "text/plain": [
       "[4, 3, 2, 1, 0]"
      ]
     },
     "execution_count": 41,
     "metadata": {},
     "output_type": "execute_result"
    }
   ],
   "source": [
    "a[-1::-1]"
   ]
  },
  {
   "cell_type": "code",
   "execution_count": 42,
   "id": "2e63354e-5351-4c58-bef6-9b1e1700f5ae",
   "metadata": {},
   "outputs": [],
   "source": [
    "a = [1] * 3"
   ]
  },
  {
   "cell_type": "code",
   "execution_count": 45,
   "id": "020509f0-dca0-408e-ab56-392255653265",
   "metadata": {},
   "outputs": [],
   "source": [
    "a[0] = 2"
   ]
  },
  {
   "cell_type": "code",
   "execution_count": 46,
   "id": "ca2303c7-daf5-40ef-aa5f-8a8d7d4f2f03",
   "metadata": {},
   "outputs": [
    {
     "data": {
      "text/plain": [
       "[2, 1, 1]"
      ]
     },
     "execution_count": 46,
     "metadata": {},
     "output_type": "execute_result"
    }
   ],
   "source": [
    "a"
   ]
  },
  {
   "cell_type": "code",
   "execution_count": 50,
   "id": "07ce0f62-f732-4249-8999-9dd7db9b0f5f",
   "metadata": {},
   "outputs": [],
   "source": [
    "a = [[1] * 3] * 3"
   ]
  },
  {
   "cell_type": "code",
   "execution_count": 51,
   "id": "bbe2cf74-b82b-4e03-84dc-26f599e91a5c",
   "metadata": {},
   "outputs": [],
   "source": [
    "a[0][0] = 100"
   ]
  },
  {
   "cell_type": "code",
   "execution_count": 52,
   "id": "0c4ad529-0c1b-41fb-9e6b-788101726974",
   "metadata": {},
   "outputs": [
    {
     "data": {
      "text/plain": [
       "[[100, 1, 1], [100, 1, 1], [100, 1, 1]]"
      ]
     },
     "execution_count": 52,
     "metadata": {},
     "output_type": "execute_result"
    }
   ],
   "source": [
    "a"
   ]
  },
  {
   "cell_type": "code",
   "execution_count": 54,
   "id": "a42800be-8cd5-43ee-a616-98588cb8063b",
   "metadata": {},
   "outputs": [],
   "source": [
    "a = {0 : [1, 2, 3], 1 : [4, 5, 6]}"
   ]
  },
  {
   "cell_type": "code",
   "execution_count": 55,
   "id": "59f0364a-12a9-4381-b1eb-f5f8faa31879",
   "metadata": {},
   "outputs": [
    {
     "data": {
      "text/plain": [
       "[1, 2, 3]"
      ]
     },
     "execution_count": 55,
     "metadata": {},
     "output_type": "execute_result"
    }
   ],
   "source": [
    "a[0]"
   ]
  },
  {
   "cell_type": "code",
   "execution_count": 56,
   "id": "90d84827-43d6-4cee-870e-171b5fa98186",
   "metadata": {},
   "outputs": [
    {
     "ename": "AttributeError",
     "evalue": "'dict' object has no attribute 'remove'",
     "output_type": "error",
     "traceback": [
      "\u001b[1;31m---------------------------------------------------------------------------\u001b[0m",
      "\u001b[1;31mAttributeError\u001b[0m                            Traceback (most recent call last)",
      "Cell \u001b[1;32mIn[56], line 1\u001b[0m\n\u001b[1;32m----> 1\u001b[0m \u001b[43ma\u001b[49m\u001b[38;5;241;43m.\u001b[39;49m\u001b[43mremove\u001b[49m()\n",
      "\u001b[1;31mAttributeError\u001b[0m: 'dict' object has no attribute 'remove'"
     ]
    }
   ],
   "source": []
  },
  {
   "cell_type": "code",
   "execution_count": 1,
   "id": "e0707820-347e-4d32-b50e-cc2db27a02a7",
   "metadata": {},
   "outputs": [],
   "source": [
    "from collections import defaultdict"
   ]
  },
  {
   "cell_type": "code",
   "execution_count": 2,
   "id": "e7942adb-6bbf-4c71-afb8-43292488bb65",
   "metadata": {},
   "outputs": [],
   "source": [
    "a = defaultdict(int)"
   ]
  },
  {
   "cell_type": "code",
   "execution_count": 4,
   "id": "b717beed-f11c-40ee-95fe-6b539c3032e8",
   "metadata": {},
   "outputs": [],
   "source": [
    "if a:\n",
    "    print(1)"
   ]
  },
  {
   "cell_type": "code",
   "execution_count": 5,
   "id": "9119ae26-c7e9-40ce-9c96-c96ec77f28df",
   "metadata": {},
   "outputs": [],
   "source": [
    "a = {k : 0 for k in range(6)}"
   ]
  },
  {
   "cell_type": "code",
   "execution_count": 6,
   "id": "b3738f29-6492-4d3a-9bfe-a0dffd1835fc",
   "metadata": {},
   "outputs": [
    {
     "data": {
      "text/plain": [
       "{0: 0, 1: 0, 2: 0, 3: 0, 4: 0, 5: 0}"
      ]
     },
     "execution_count": 6,
     "metadata": {},
     "output_type": "execute_result"
    }
   ],
   "source": [
    "a"
   ]
  },
  {
   "cell_type": "code",
   "execution_count": 8,
   "id": "0db94f82-69f3-4c37-906c-076940ee9d72",
   "metadata": {},
   "outputs": [
    {
     "ename": "TypeError",
     "evalue": "'dict_items' object is not subscriptable",
     "output_type": "error",
     "traceback": [
      "\u001b[1;31m---------------------------------------------------------------------------\u001b[0m",
      "\u001b[1;31mTypeError\u001b[0m                                 Traceback (most recent call last)",
      "Cell \u001b[1;32mIn[8], line 1\u001b[0m\n\u001b[1;32m----> 1\u001b[0m \u001b[43ma\u001b[49m\u001b[38;5;241;43m.\u001b[39;49m\u001b[43mitems\u001b[49m\u001b[43m(\u001b[49m\u001b[43m)\u001b[49m\u001b[43m[\u001b[49m\u001b[38;5;241;43m0\u001b[39;49m\u001b[43m]\u001b[49m\n",
      "\u001b[1;31mTypeError\u001b[0m: 'dict_items' object is not subscriptable"
     ]
    }
   ],
   "source": [
    "a.items()[0]"
   ]
  },
  {
   "cell_type": "code",
   "execution_count": null,
   "id": "0bd6f2e8-5781-46b4-9699-0b0ff1203ed5",
   "metadata": {},
   "outputs": [],
   "source": []
  }
 ],
 "metadata": {
  "kernelspec": {
   "display_name": "Python 3 (ipykernel)",
   "language": "python",
   "name": "python3"
  },
  "language_info": {
   "codemirror_mode": {
    "name": "ipython",
    "version": 3
   },
   "file_extension": ".py",
   "mimetype": "text/x-python",
   "name": "python",
   "nbconvert_exporter": "python",
   "pygments_lexer": "ipython3",
   "version": "3.10.11"
  }
 },
 "nbformat": 4,
 "nbformat_minor": 5
}
