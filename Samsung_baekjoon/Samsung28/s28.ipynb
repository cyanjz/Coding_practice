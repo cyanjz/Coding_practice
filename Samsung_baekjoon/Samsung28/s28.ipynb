{
 "cells": [
  {
   "cell_type": "code",
   "execution_count": 5,
   "id": "b5264927-d95f-410e-b0aa-05f0399ed2a1",
   "metadata": {},
   "outputs": [],
   "source": [
    "a = [[[] for _ in range(3)] for _ in range(4)]"
   ]
  },
  {
   "cell_type": "code",
   "execution_count": 6,
   "id": "1312502f-6ff5-49e3-9458-a1234ea32cea",
   "metadata": {},
   "outputs": [
    {
     "data": {
      "text/plain": [
       "[[[], [], []], [[], [], []], [[], [], []], [[], [], []]]"
      ]
     },
     "execution_count": 6,
     "metadata": {},
     "output_type": "execute_result"
    }
   ],
   "source": [
    "a"
   ]
  },
  {
   "cell_type": "code",
   "execution_count": 7,
   "id": "b76bd798-f950-4086-831c-b0299686e700",
   "metadata": {},
   "outputs": [
    {
     "data": {
      "text/plain": [
       "[]"
      ]
     },
     "execution_count": 7,
     "metadata": {},
     "output_type": "execute_result"
    }
   ],
   "source": [
    "a[3][2]"
   ]
  },
  {
   "cell_type": "code",
   "execution_count": null,
   "id": "b84013ef-a4c4-4215-a969-8a302146a690",
   "metadata": {},
   "outputs": [],
   "source": []
  }
 ],
 "metadata": {
  "kernelspec": {
   "display_name": "Python 3 (ipykernel)",
   "language": "python",
   "name": "python3"
  },
  "language_info": {
   "codemirror_mode": {
    "name": "ipython",
    "version": 3
   },
   "file_extension": ".py",
   "mimetype": "text/x-python",
   "name": "python",
   "nbconvert_exporter": "python",
   "pygments_lexer": "ipython3",
   "version": "3.10.11"
  }
 },
 "nbformat": 4,
 "nbformat_minor": 5
}
