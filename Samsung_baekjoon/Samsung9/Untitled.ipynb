{
 "cells": [
  {
   "cell_type": "code",
   "execution_count": 7,
   "id": "89c23531-7d22-44fc-9324-816ae6608452",
   "metadata": {},
   "outputs": [
    {
     "data": {
      "text/plain": [
       "False"
      ]
     },
     "execution_count": 7,
     "metadata": {},
     "output_type": "execute_result"
    }
   ],
   "source": [
    "all(map(lambda x : 1 if x < 2 else 0, [1, 2, 3]))"
   ]
  },
  {
   "cell_type": "code",
   "execution_count": 6,
   "id": "da24b0e3-d6e1-4a34-9dfa-7789087b2979",
   "metadata": {},
   "outputs": [
    {
     "name": "stdout",
     "output_type": "stream",
     "text": [
      "1\n",
      "-1\n",
      "-1\n"
     ]
    }
   ],
   "source": [
    "for i in map(lambda x : 1 if x < 2 else -1, [1, 2, 3]):\n",
    "    print(i)"
   ]
  },
  {
   "cell_type": "code",
   "execution_count": 6,
   "id": "99b44245-1a7e-4044-80cd-6c302ba6fb76",
   "metadata": {},
   "outputs": [
    {
     "name": "stdout",
     "output_type": "stream",
     "text": [
      "[1]\n"
     ]
    }
   ],
   "source": [
    "a = [1, 2, 3]\n",
    "print([x for x in a if x <2])"
   ]
  },
  {
   "cell_type": "code",
   "execution_count": null,
   "id": "abb23534-e56a-46ff-853a-f98ac2b4b5e4",
   "metadata": {},
   "outputs": [],
   "source": [
    "for i in range(4):\n",
    "    print(i)\n",
    "\n",
    "    if i == 3:\n",
    "        continue\n",
    "        "
   ]
  }
 ],
 "metadata": {
  "kernelspec": {
   "display_name": "Python 3 (ipykernel)",
   "language": "python",
   "name": "python3"
  },
  "language_info": {
   "codemirror_mode": {
    "name": "ipython",
    "version": 3
   },
   "file_extension": ".py",
   "mimetype": "text/x-python",
   "name": "python",
   "nbconvert_exporter": "python",
   "pygments_lexer": "ipython3",
   "version": "3.10.11"
  }
 },
 "nbformat": 4,
 "nbformat_minor": 5
}
