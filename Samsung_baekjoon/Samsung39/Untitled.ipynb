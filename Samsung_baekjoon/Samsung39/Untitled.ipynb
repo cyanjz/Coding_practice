{
 "cells": [
  {
   "cell_type": "code",
   "execution_count": 2,
   "id": "0b068166-acb8-40fe-9f96-34ffb8e2d806",
   "metadata": {},
   "outputs": [
    {
     "name": "stdout",
     "output_type": "stream",
     "text": [
      "(1, 4)\n",
      "(2, 5)\n",
      "(3, 6)\n"
     ]
    }
   ],
   "source": [
    "a = [[1, 2, 3], [4, 5, 6]]\n",
    "for row in zip(*a):\n",
    "    print(row)"
   ]
  },
  {
   "cell_type": "code",
   "execution_count": 3,
   "id": "0bc2fd6a-8ce9-440a-9716-8a4b26206ae5",
   "metadata": {},
   "outputs": [
    {
     "data": {
      "text/plain": [
       "[[4, 5, 6], [1, 2, 3]]"
      ]
     },
     "execution_count": 3,
     "metadata": {},
     "output_type": "execute_result"
    }
   ],
   "source": [
    "a[::-1]"
   ]
  },
  {
   "cell_type": "code",
   "execution_count": 4,
   "id": "3a52fbe3-1ef8-431e-a534-c0dcf0221131",
   "metadata": {},
   "outputs": [],
   "source": [
    "a = [row for row in zip(*a)]"
   ]
  },
  {
   "cell_type": "code",
   "execution_count": 5,
   "id": "553b28ad-6961-4a82-849c-0001c3912753",
   "metadata": {},
   "outputs": [
    {
     "data": {
      "text/plain": [
       "[(1, 4), (2, 5), (3, 6)]"
      ]
     },
     "execution_count": 5,
     "metadata": {},
     "output_type": "execute_result"
    }
   ],
   "source": [
    "a"
   ]
  },
  {
   "cell_type": "code",
   "execution_count": 6,
   "id": "9b225449-9247-42de-ae54-0cf088bfc0ca",
   "metadata": {},
   "outputs": [
    {
     "data": {
      "text/plain": [
       "[(3, 6), (2, 5), (1, 4)]"
      ]
     },
     "execution_count": 6,
     "metadata": {},
     "output_type": "execute_result"
    }
   ],
   "source": [
    "a[::-1]"
   ]
  },
  {
   "cell_type": "code",
   "execution_count": null,
   "id": "9fb0576b-e7af-48a1-9e99-d9f59e015b87",
   "metadata": {},
   "outputs": [],
   "source": []
  }
 ],
 "metadata": {
  "kernelspec": {
   "display_name": "Python 3 (ipykernel)",
   "language": "python",
   "name": "python3"
  },
  "language_info": {
   "codemirror_mode": {
    "name": "ipython",
    "version": 3
   },
   "file_extension": ".py",
   "mimetype": "text/x-python",
   "name": "python",
   "nbconvert_exporter": "python",
   "pygments_lexer": "ipython3",
   "version": "3.10.11"
  }
 },
 "nbformat": 4,
 "nbformat_minor": 5
}
