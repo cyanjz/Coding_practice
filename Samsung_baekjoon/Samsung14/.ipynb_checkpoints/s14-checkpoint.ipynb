{
 "cells": [
  {
   "cell_type": "code",
   "execution_count": 1,
   "id": "63487710-8226-41c3-ab79-a492cb9d5c96",
   "metadata": {},
   "outputs": [],
   "source": [
    "import itertools"
   ]
  },
  {
   "cell_type": "code",
   "execution_count": 2,
   "id": "f4ba974f-6df2-4cba-a93c-a7001c7f545f",
   "metadata": {},
   "outputs": [
    {
     "data": {
      "text/plain": [
       "\u001b[1;31mInit signature:\u001b[0m \u001b[0mitertools\u001b[0m\u001b[1;33m.\u001b[0m\u001b[0mproduct\u001b[0m\u001b[1;33m(\u001b[0m\u001b[0mself\u001b[0m\u001b[1;33m,\u001b[0m \u001b[1;33m/\u001b[0m\u001b[1;33m,\u001b[0m \u001b[1;33m*\u001b[0m\u001b[0margs\u001b[0m\u001b[1;33m,\u001b[0m \u001b[1;33m**\u001b[0m\u001b[0mkwargs\u001b[0m\u001b[1;33m)\u001b[0m\u001b[1;33m\u001b[0m\u001b[1;33m\u001b[0m\u001b[0m\n",
       "\u001b[1;31mDocstring:\u001b[0m     \n",
       "product(*iterables, repeat=1) --> product object\n",
       "\n",
       "Cartesian product of input iterables.  Equivalent to nested for-loops.\n",
       "\n",
       "For example, product(A, B) returns the same as:  ((x,y) for x in A for y in B).\n",
       "The leftmost iterators are in the outermost for-loop, so the output tuples\n",
       "cycle in a manner similar to an odometer (with the rightmost element changing\n",
       "on every iteration).\n",
       "\n",
       "To compute the product of an iterable with itself, specify the number\n",
       "of repetitions with the optional repeat keyword argument. For example,\n",
       "product(A, repeat=4) means the same as product(A, A, A, A).\n",
       "\n",
       "product('ab', range(3)) --> ('a',0) ('a',1) ('a',2) ('b',0) ('b',1) ('b',2)\n",
       "product((0,1), (0,1), (0,1)) --> (0,0,0) (0,0,1) (0,1,0) (0,1,1) (1,0,0) ...\n",
       "\u001b[1;31mType:\u001b[0m           type\n",
       "\u001b[1;31mSubclasses:\u001b[0m     \n"
      ]
     },
     "metadata": {},
     "output_type": "display_data"
    }
   ],
   "source": [
    "itertools.product?"
   ]
  },
  {
   "cell_type": "code",
   "execution_count": 7,
   "id": "6f2e6e3d-3e4a-425f-9c55-2bc211993d30",
   "metadata": {},
   "outputs": [],
   "source": [
    "a = [[1, 0, 1], [0, 0, 0]]"
   ]
  },
  {
   "cell_type": "code",
   "execution_count": 12,
   "id": "35dfe781-4db0-4f74-9bf1-fe8fbddcb79a",
   "metadata": {},
   "outputs": [
    {
     "data": {
      "text/plain": [
       "[0, 0, 0, 0]"
      ]
     },
     "execution_count": 12,
     "metadata": {},
     "output_type": "execute_result"
    }
   ],
   "source": [
    "[_ for row in a for _ in row if _ == 0]"
   ]
  },
  {
   "cell_type": "code",
   "execution_count": 19,
   "id": "0f4143be-4578-4c46-ae68-270af71d5106",
   "metadata": {},
   "outputs": [
    {
     "name": "stdout",
     "output_type": "stream",
     "text": [
      "([1, 2, 3], 7)\n",
      "([1, 2, 3], 8)\n",
      "([1, 2, 3], 9)\n",
      "([4, 5, 6], 7)\n",
      "([4, 5, 6], 8)\n",
      "([4, 5, 6], 9)\n"
     ]
    }
   ],
   "source": [
    "for x in itertools.product(([1, 2, 3], [4, 5, 6]), ([7, 8, 9])):\n",
    "    print(x)"
   ]
  },
  {
   "cell_type": "code",
   "execution_count": null,
   "id": "50d29904-0cbc-469a-8bef-749c04798899",
   "metadata": {},
   "outputs": [],
   "source": [
    "itertools.product()"
   ]
  }
 ],
 "metadata": {
  "kernelspec": {
   "display_name": "Python 3 (ipykernel)",
   "language": "python",
   "name": "python3"
  },
  "language_info": {
   "codemirror_mode": {
    "name": "ipython",
    "version": 3
   },
   "file_extension": ".py",
   "mimetype": "text/x-python",
   "name": "python",
   "nbconvert_exporter": "python",
   "pygments_lexer": "ipython3",
   "version": "3.10.11"
  }
 },
 "nbformat": 4,
 "nbformat_minor": 5
}
