{
 "cells": [
  {
   "cell_type": "code",
   "execution_count": 14,
   "id": "156949a4-9793-4a19-8be0-0ba8c3ac06b5",
   "metadata": {},
   "outputs": [],
   "source": [
    "a = [[1, 2, 3], [4, 5, 6]]\n",
    "b = [row[:] for row in a]\n",
    "a[0][0] = 100"
   ]
  },
  {
   "cell_type": "code",
   "execution_count": 15,
   "id": "b0243ce3-2ab5-40b5-ae31-7055ca045c31",
   "metadata": {},
   "outputs": [
    {
     "data": {
      "text/plain": [
       "[[100, 2, 3], [4, 5, 6]]"
      ]
     },
     "execution_count": 15,
     "metadata": {},
     "output_type": "execute_result"
    }
   ],
   "source": [
    "a"
   ]
  },
  {
   "cell_type": "code",
   "execution_count": 16,
   "id": "84c6b28c-ff29-4716-92cc-6016556c874a",
   "metadata": {},
   "outputs": [
    {
     "data": {
      "text/plain": [
       "[[1, 2, 3], [4, 5, 6]]"
      ]
     },
     "execution_count": 16,
     "metadata": {},
     "output_type": "execute_result"
    }
   ],
   "source": [
    "b"
   ]
  },
  {
   "cell_type": "code",
   "execution_count": 17,
   "id": "0aca6014-794d-48e6-8012-8caa57a27aa2",
   "metadata": {},
   "outputs": [],
   "source": [
    "a = (1, 2, 3)"
   ]
  },
  {
   "cell_type": "code",
   "execution_count": null,
   "id": "a14e055a-4f8c-4f9e-b335-9469b0cce905",
   "metadata": {},
   "outputs": [],
   "source": [
    "a[0] = 100"
   ]
  }
 ],
 "metadata": {
  "kernelspec": {
   "display_name": "Python 3 (ipykernel)",
   "language": "python",
   "name": "python3"
  },
  "language_info": {
   "codemirror_mode": {
    "name": "ipython",
    "version": 3
   },
   "file_extension": ".py",
   "mimetype": "text/x-python",
   "name": "python",
   "nbconvert_exporter": "python",
   "pygments_lexer": "ipython3",
   "version": "3.10.11"
  }
 },
 "nbformat": 4,
 "nbformat_minor": 5
}
