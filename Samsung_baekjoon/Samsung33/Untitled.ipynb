{
 "cells": [
  {
   "cell_type": "code",
   "execution_count": 3,
   "id": "0b5df0c4-cad5-4af0-afcc-f5ab708217d5",
   "metadata": {},
   "outputs": [],
   "source": [
    "a = [[]*3]"
   ]
  },
  {
   "cell_type": "code",
   "execution_count": 4,
   "id": "459c8cea-5d1e-4202-b062-590e2d5d7222",
   "metadata": {},
   "outputs": [
    {
     "data": {
      "text/plain": [
       "[[]]"
      ]
     },
     "execution_count": 4,
     "metadata": {},
     "output_type": "execute_result"
    }
   ],
   "source": [
    "a"
   ]
  },
  {
   "cell_type": "code",
   "execution_count": 5,
   "id": "3b39cedc-4af0-44ba-9a43-916d587b90d2",
   "metadata": {},
   "outputs": [],
   "source": [
    "a = [(1, 2, 3)]\n",
    "b = a[:]"
   ]
  },
  {
   "cell_type": "code",
   "execution_count": 6,
   "id": "720e3690-3fb9-488f-b052-b85c23b44a3a",
   "metadata": {},
   "outputs": [
    {
     "data": {
      "text/plain": [
       "[(1, 2, 3)]"
      ]
     },
     "execution_count": 6,
     "metadata": {},
     "output_type": "execute_result"
    }
   ],
   "source": [
    "b"
   ]
  },
  {
   "cell_type": "code",
   "execution_count": 7,
   "id": "30b5c78f-c1f5-4ebe-b7d7-0014840f2fce",
   "metadata": {},
   "outputs": [],
   "source": [
    "a[0] = 1"
   ]
  },
  {
   "cell_type": "code",
   "execution_count": 8,
   "id": "f7655094-7f17-4539-ba1b-60eb54838848",
   "metadata": {},
   "outputs": [
    {
     "data": {
      "text/plain": [
       "[(1, 2, 3)]"
      ]
     },
     "execution_count": 8,
     "metadata": {},
     "output_type": "execute_result"
    }
   ],
   "source": [
    "b"
   ]
  },
  {
   "cell_type": "code",
   "execution_count": 9,
   "id": "177eee13-186e-4090-8620-feff5fac3437",
   "metadata": {},
   "outputs": [
    {
     "data": {
      "text/plain": [
       "[1]"
      ]
     },
     "execution_count": 9,
     "metadata": {},
     "output_type": "execute_result"
    }
   ],
   "source": [
    "a"
   ]
  },
  {
   "cell_type": "code",
   "execution_count": 21,
   "id": "41f20334-5e82-494b-8816-1576a1bbe0fe",
   "metadata": {},
   "outputs": [],
   "source": [
    "a = [(1, 3), (2, 2), (3, 1), (-1, 0), (-2, 0)]"
   ]
  },
  {
   "cell_type": "code",
   "execution_count": 22,
   "id": "b2ed765a-67f2-4674-848e-87eaed444841",
   "metadata": {},
   "outputs": [],
   "source": [
    "a.sort(key = lambda x : (x[1], x[0]))"
   ]
  },
  {
   "cell_type": "code",
   "execution_count": 23,
   "id": "89e3074f-b22e-490b-998e-0f20c8d9d74b",
   "metadata": {},
   "outputs": [
    {
     "data": {
      "text/plain": [
       "[(-2, 0), (-1, 0), (3, 1), (2, 2), (1, 3)]"
      ]
     },
     "execution_count": 23,
     "metadata": {},
     "output_type": "execute_result"
    }
   ],
   "source": [
    "a"
   ]
  },
  {
   "cell_type": "code",
   "execution_count": 2,
   "id": "29d3927f-01ab-4cad-8de1-a84202901757",
   "metadata": {},
   "outputs": [],
   "source": [
    "a = [[1, 2, 3], [4, 5, 6]]\n",
    "b = \n"
   ]
  },
  {
   "cell_type": "code",
   "execution_count": 3,
   "id": "bfe68c4f-2fa7-4c53-8046-4c68fa5796ce",
   "metadata": {},
   "outputs": [
    {
     "data": {
      "text/plain": [
       "[[1, 2, 3], [4, 5, 6]]"
      ]
     },
     "execution_count": 3,
     "metadata": {},
     "output_type": "execute_result"
    }
   ],
   "source": [
    "b"
   ]
  },
  {
   "cell_type": "code",
   "execution_count": 5,
   "id": "f0f8f48c-7195-47d2-9bed-1c12010f97fa",
   "metadata": {},
   "outputs": [],
   "source": [
    "a[0][0] = 100"
   ]
  },
  {
   "cell_type": "code",
   "execution_count": 6,
   "id": "ea1a1728-9c73-476e-bf4b-b0eca86f76b9",
   "metadata": {},
   "outputs": [
    {
     "data": {
      "text/plain": [
       "[[100, 2, 3], [4, 5, 6]]"
      ]
     },
     "execution_count": 6,
     "metadata": {},
     "output_type": "execute_result"
    }
   ],
   "source": [
    "b"
   ]
  },
  {
   "cell_type": "code",
   "execution_count": null,
   "id": "68fe3685-fc80-461e-801b-d10ef854fc11",
   "metadata": {},
   "outputs": [],
   "source": []
  }
 ],
 "metadata": {
  "kernelspec": {
   "display_name": "Python 3 (ipykernel)",
   "language": "python",
   "name": "python3"
  },
  "language_info": {
   "codemirror_mode": {
    "name": "ipython",
    "version": 3
   },
   "file_extension": ".py",
   "mimetype": "text/x-python",
   "name": "python",
   "nbconvert_exporter": "python",
   "pygments_lexer": "ipython3",
   "version": "3.10.11"
  }
 },
 "nbformat": 4,
 "nbformat_minor": 5
}
