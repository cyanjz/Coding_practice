{
 "cells": [
  {
   "cell_type": "code",
   "execution_count": 1,
   "id": "89ee3a9c-d866-443c-add9-6bf6cdba8062",
   "metadata": {},
   "outputs": [
    {
     "data": {
      "text/plain": [
       "-1"
      ]
     },
     "execution_count": 1,
     "metadata": {},
     "output_type": "execute_result"
    }
   ],
   "source": [
    "-1//4"
   ]
  },
  {
   "cell_type": "code",
   "execution_count": 4,
   "id": "f628e7b4-e650-4dca-bad7-b9ada2e457f6",
   "metadata": {},
   "outputs": [
    {
     "data": {
      "text/plain": [
       "-2"
      ]
     },
     "execution_count": 4,
     "metadata": {},
     "output_type": "execute_result"
    }
   ],
   "source": [
    "-5//4"
   ]
  },
  {
   "cell_type": "code",
   "execution_count": 3,
   "id": "8a3cf354-570a-4caa-adc9-d6f046de5a01",
   "metadata": {},
   "outputs": [
    {
     "data": {
      "text/plain": [
       "-1"
      ]
     },
     "execution_count": 3,
     "metadata": {},
     "output_type": "execute_result"
    }
   ],
   "source": [
    "-3//4"
   ]
  },
  {
   "cell_type": "code",
   "execution_count": 5,
   "id": "8b81de82-dc89-415e-b9d5-226d1dcfaeb5",
   "metadata": {},
   "outputs": [
    {
     "data": {
      "text/plain": [
       "1"
      ]
     },
     "execution_count": 5,
     "metadata": {},
     "output_type": "execute_result"
    }
   ],
   "source": [
    "abs(-1)"
   ]
  },
  {
   "cell_type": "code",
   "execution_count": 6,
   "id": "31e5c35f-006d-4a6e-ae50-be147fc5b3a1",
   "metadata": {},
   "outputs": [],
   "source": [
    "a = [1, 2, 3]"
   ]
  },
  {
   "cell_type": "code",
   "execution_count": 7,
   "id": "4d9319cf-45ba-4c50-949f-13e671422732",
   "metadata": {},
   "outputs": [],
   "source": [
    "from collections import deque"
   ]
  },
  {
   "cell_type": "code",
   "execution_count": 8,
   "id": "efcbc6b4-ded6-4fd8-97ae-4de51ab72903",
   "metadata": {},
   "outputs": [],
   "source": [
    "b = deque(a)"
   ]
  },
  {
   "cell_type": "code",
   "execution_count": 9,
   "id": "19fad1d8-23b5-454b-8f21-57232b864950",
   "metadata": {},
   "outputs": [
    {
     "data": {
      "text/plain": [
       "True"
      ]
     },
     "execution_count": 9,
     "metadata": {},
     "output_type": "execute_result"
    }
   ],
   "source": [
    "2 in b"
   ]
  },
  {
   "cell_type": "code",
   "execution_count": 10,
   "id": "dfdeb502-fa84-4b15-8968-10daa2329c18",
   "metadata": {},
   "outputs": [
    {
     "data": {
      "text/plain": [
       "False"
      ]
     },
     "execution_count": 10,
     "metadata": {},
     "output_type": "execute_result"
    }
   ],
   "source": [
    "4 in b"
   ]
  },
  {
   "cell_type": "code",
   "execution_count": null,
   "id": "187af22a-307b-41f6-8c90-0ee82c5ab8cd",
   "metadata": {},
   "outputs": [],
   "source": []
  }
 ],
 "metadata": {
  "kernelspec": {
   "display_name": "Python 3 (ipykernel)",
   "language": "python",
   "name": "python3"
  },
  "language_info": {
   "codemirror_mode": {
    "name": "ipython",
    "version": 3
   },
   "file_extension": ".py",
   "mimetype": "text/x-python",
   "name": "python",
   "nbconvert_exporter": "python",
   "pygments_lexer": "ipython3",
   "version": "3.10.11"
  }
 },
 "nbformat": 4,
 "nbformat_minor": 5
}
