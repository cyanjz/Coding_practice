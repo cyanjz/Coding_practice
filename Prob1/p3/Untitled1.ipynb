{
 "cells": [
  {
   "cell_type": "code",
   "execution_count": 1,
   "id": "e364ff7b-ce22-44d1-b6d3-820c3ec56cd4",
   "metadata": {},
   "outputs": [],
   "source": [
    "import sys"
   ]
  },
  {
   "cell_type": "code",
   "execution_count": 6,
   "id": "9d6482c5-c669-4da2-a232-151d7fc95ed4",
   "metadata": {},
   "outputs": [
    {
     "name": "stdout",
     "output_type": "stream",
     "text": [
      "56\n",
      "88\n",
      "88\n",
      "88\n",
      "88\n",
      "120\n",
      "120\n",
      "120\n",
      "120\n",
      "184\n",
      "184\n",
      "184\n",
      "184\n",
      "184\n",
      "184\n",
      "184\n",
      "184\n",
      "248\n",
      "248\n",
      "248\n",
      "248\n",
      "248\n",
      "248\n",
      "248\n",
      "248\n",
      "312\n",
      "312\n",
      "312\n",
      "312\n",
      "312\n"
     ]
    }
   ],
   "source": [
    "for i in range(30):\n",
    "    print(sys.getsizeof([1 for _ in range(i)]))"
   ]
  },
  {
   "cell_type": "code",
   "execution_count": 11,
   "id": "8de1ba4b-7484-4d81-9e26-367d98eaa3e9",
   "metadata": {},
   "outputs": [
    {
     "data": {
      "text/plain": [
       "2.3865"
      ]
     },
     "execution_count": 11,
     "metadata": {},
     "output_type": "execute_result"
    }
   ],
   "source": [
    "sys.getsizeof([[1] * 1500 for _ in range(1500)])/8 * 1500 /10**6"
   ]
  },
  {
   "cell_type": "code",
   "execution_count": 12,
   "id": "c0280576-fc38-4369-a2fc-6d2f1aacd3e2",
   "metadata": {},
   "outputs": [
    {
     "data": {
      "text/plain": [
       "12728"
      ]
     },
     "execution_count": 12,
     "metadata": {},
     "output_type": "execute_result"
    }
   ],
   "source": [
    "sys.getsizeof([[1] * 1500 for _ in range(1500)])"
   ]
  },
  {
   "cell_type": "code",
   "execution_count": 13,
   "id": "3e43f47f-a81d-47e9-a9be-c8fcdb9e8845",
   "metadata": {},
   "outputs": [
    {
     "data": {
      "text/plain": [
       "12056"
      ]
     },
     "execution_count": 13,
     "metadata": {},
     "output_type": "execute_result"
    }
   ],
   "source": [
    "sys.getsizeof([1] * 1500)"
   ]
  },
  {
   "cell_type": "code",
   "execution_count": 15,
   "id": "8bf8caf0-386c-45dc-9609-3e32a7ea08e5",
   "metadata": {},
   "outputs": [],
   "source": [
    "R = 1500\n",
    "C = 1500\n",
    "dr, dc = [0, 0, 1, -1], [0, 0, 1, -1]\n",
    "neigh = [[None] * C for _ in range(R)]\n",
    "for r in range(R):\n",
    "    for c in range(C):\n",
    "        tmp = []\n",
    "        for k in range(4):\n",
    "            nr, nc = r + dr[k], c + dc[k]\n",
    "            if 0 <= nr < R and 0 <= nc < C:\n",
    "                tmp.append((nr, nc))\n",
    "        neigh[r][c] = tmp"
   ]
  },
  {
   "cell_type": "code",
   "execution_count": 19,
   "id": "d4379dcc-0eb4-4139-a041-8fba893ca650",
   "metadata": {},
   "outputs": [
    {
     "data": {
      "text/plain": [
       "12728"
      ]
     },
     "execution_count": 19,
     "metadata": {},
     "output_type": "execute_result"
    }
   ],
   "source": [
    "sys.getsizeof(neigh)"
   ]
  },
  {
   "cell_type": "code",
   "execution_count": 20,
   "id": "936f3f29-a811-4b82-8db2-73138f8522d3",
   "metadata": {},
   "outputs": [],
   "source": [
    "visited = [[0] * 1500 for _ in range(1500)]"
   ]
  },
  {
   "cell_type": "code",
   "execution_count": 21,
   "id": "848f6da2-6507-4a3c-b784-55421ad78785",
   "metadata": {},
   "outputs": [
    {
     "data": {
      "text/plain": [
       "\u001b[1;31mInit signature:\u001b[0m \u001b[0mset\u001b[0m\u001b[1;33m(\u001b[0m\u001b[0mself\u001b[0m\u001b[1;33m,\u001b[0m \u001b[1;33m/\u001b[0m\u001b[1;33m,\u001b[0m \u001b[1;33m*\u001b[0m\u001b[0margs\u001b[0m\u001b[1;33m,\u001b[0m \u001b[1;33m**\u001b[0m\u001b[0mkwargs\u001b[0m\u001b[1;33m)\u001b[0m\u001b[1;33m\u001b[0m\u001b[1;33m\u001b[0m\u001b[0m\n",
       "\u001b[1;31mDocstring:\u001b[0m     \n",
       "set() -> new empty set object\n",
       "set(iterable) -> new set object\n",
       "\n",
       "Build an unordered collection of unique elements.\n",
       "\u001b[1;31mType:\u001b[0m           type\n",
       "\u001b[1;31mSubclasses:\u001b[0m     \n"
      ]
     },
     "metadata": {},
     "output_type": "display_data"
    }
   ],
   "source": [
    "set?"
   ]
  },
  {
   "cell_type": "code",
   "execution_count": 30,
   "id": "53644904-bcb5-4133-808b-0ca79df42ee9",
   "metadata": {},
   "outputs": [
    {
     "data": {
      "text/plain": [
       "{1, 2, 3}"
      ]
     },
     "execution_count": 30,
     "metadata": {},
     "output_type": "execute_result"
    }
   ],
   "source": [
    "set([1, 2, 3, 3])"
   ]
  },
  {
   "cell_type": "code",
   "execution_count": 31,
   "id": "95f37f60-9699-493c-a80e-5adc221dc0a3",
   "metadata": {},
   "outputs": [],
   "source": [
    "a = [[1, 2, 3]]"
   ]
  },
  {
   "cell_type": "code",
   "execution_count": 32,
   "id": "2f20b781-374a-403c-b8d3-d1ff84f54a47",
   "metadata": {},
   "outputs": [],
   "source": [
    "def test1():\n",
    "    a[0][0] == 100\n",
    "    print(a)\n",
    "    return"
   ]
  },
  {
   "cell_type": "code",
   "execution_count": 33,
   "id": "720d7637-e589-43e8-8adb-b732849318c9",
   "metadata": {},
   "outputs": [
    {
     "name": "stdout",
     "output_type": "stream",
     "text": [
      "[[1, 2, 3]]\n"
     ]
    }
   ],
   "source": [
    "test1()"
   ]
  },
  {
   "cell_type": "code",
   "execution_count": 34,
   "id": "ecf0fe91-2441-44b7-9a6a-6fc9b7269129",
   "metadata": {},
   "outputs": [
    {
     "data": {
      "text/plain": [
       "[[1, 2, 3]]"
      ]
     },
     "execution_count": 34,
     "metadata": {},
     "output_type": "execute_result"
    }
   ],
   "source": [
    "a"
   ]
  },
  {
   "cell_type": "code",
   "execution_count": null,
   "id": "e41dcdae-16f4-4a15-8947-8afdf6cf69c6",
   "metadata": {},
   "outputs": [],
   "source": []
  }
 ],
 "metadata": {
  "kernelspec": {
   "display_name": "Python 3 (ipykernel)",
   "language": "python",
   "name": "python3"
  },
  "language_info": {
   "codemirror_mode": {
    "name": "ipython",
    "version": 3
   },
   "file_extension": ".py",
   "mimetype": "text/x-python",
   "name": "python",
   "nbconvert_exporter": "python",
   "pygments_lexer": "ipython3",
   "version": "3.10.11"
  }
 },
 "nbformat": 4,
 "nbformat_minor": 5
}
