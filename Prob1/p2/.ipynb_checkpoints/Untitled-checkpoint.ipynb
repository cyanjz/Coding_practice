{
 "cells": [
  {
   "cell_type": "code",
   "execution_count": 1,
   "id": "fded910a-3de5-467e-8b14-65ad04acae5e",
   "metadata": {},
   "outputs": [],
   "source": [
    "a = [1, 2, 3]"
   ]
  },
  {
   "cell_type": "code",
   "execution_count": 2,
   "id": "bc856322-56ad-4392-8e65-993f833e3b2e",
   "metadata": {},
   "outputs": [
    {
     "data": {
      "text/plain": [
       "[]"
      ]
     },
     "execution_count": 2,
     "metadata": {},
     "output_type": "execute_result"
    }
   ],
   "source": [
    "a[:0]"
   ]
  },
  {
   "cell_type": "code",
   "execution_count": 2,
   "id": "6e7a1f60-9e6d-42ab-b454-93bf9ecda375",
   "metadata": {},
   "outputs": [],
   "source": [
    "import heapq"
   ]
  },
  {
   "cell_type": "code",
   "execution_count": 4,
   "id": "3e198168-0106-4503-84e9-134965913ba6",
   "metadata": {},
   "outputs": [
    {
     "data": {
      "text/plain": [
       "\u001b[1;31mType:\u001b[0m        module\n",
       "\u001b[1;31mString form:\u001b[0m <module 'heapq' from 'C:\\\\Program Files\\\\WindowsApps\\\\PythonSoftwareFoundation.Python.3.10_3.10.3056.0_x64__qbz5n2kfra8p0\\\\lib\\\\heapq.py'>\n",
       "\u001b[1;31mFile:\u001b[0m        c:\\program files\\windowsapps\\pythonsoftwarefoundation.python.3.10_3.10.3056.0_x64__qbz5n2kfra8p0\\lib\\heapq.py\n",
       "\u001b[1;31mDocstring:\u001b[0m  \n",
       "Heap queue algorithm (a.k.a. priority queue).\n",
       "\n",
       "Heaps are arrays for which a[k] <= a[2*k+1] and a[k] <= a[2*k+2] for\n",
       "all k, counting elements from 0.  For the sake of comparison,\n",
       "non-existing elements are considered to be infinite.  The interesting\n",
       "property of a heap is that a[0] is always its smallest element.\n",
       "\n",
       "Usage:\n",
       "\n",
       "heap = []            # creates an empty heap\n",
       "heappush(heap, item) # pushes a new item on the heap\n",
       "item = heappop(heap) # pops the smallest item from the heap\n",
       "item = heap[0]       # smallest item on the heap without popping it\n",
       "heapify(x)           # transforms list into a heap, in-place, in linear time\n",
       "item = heapreplace(heap, item) # pops and returns smallest item, and adds\n",
       "                               # new item; the heap size is unchanged\n",
       "\n",
       "Our API differs from textbook heap algorithms as follows:\n",
       "\n",
       "- We use 0-based indexing.  This makes the relationship between the\n",
       "  index for a node and the indexes for its children slightly less\n",
       "  obvious, but is more suitable since Python uses 0-based indexing.\n",
       "\n",
       "- Our heappop() method returns the smallest item, not the largest.\n",
       "\n",
       "These two make it possible to view the heap as a regular Python list\n",
       "without surprises: heap[0] is the smallest item, and heap.sort()\n",
       "maintains the heap invariant!\n"
      ]
     },
     "metadata": {},
     "output_type": "display_data"
    }
   ],
   "source": [
    "heapq?"
   ]
  },
  {
   "cell_type": "code",
   "execution_count": 6,
   "id": "a469b911-47eb-4f92-b9ed-e12d80bdd9f2",
   "metadata": {},
   "outputs": [],
   "source": [
    "heap = []"
   ]
  },
  {
   "cell_type": "code",
   "execution_count": 12,
   "id": "055424d9-7b04-4cec-b05a-a848e60ba889",
   "metadata": {},
   "outputs": [
    {
     "ename": "TypeError",
     "evalue": "'<' not supported between instances of 'int' and 'list'",
     "output_type": "error",
     "traceback": [
      "\u001b[1;31m---------------------------------------------------------------------------\u001b[0m",
      "\u001b[1;31mTypeError\u001b[0m                                 Traceback (most recent call last)",
      "Cell \u001b[1;32mIn[12], line 1\u001b[0m\n\u001b[1;32m----> 1\u001b[0m \u001b[43mheapq\u001b[49m\u001b[38;5;241;43m.\u001b[39;49m\u001b[43mheappush\u001b[49m\u001b[43m(\u001b[49m\u001b[43mheap\u001b[49m\u001b[43m,\u001b[49m\u001b[43m \u001b[49m\u001b[38;5;241;43m3\u001b[39;49m\u001b[43m)\u001b[49m\n\u001b[0;32m      2\u001b[0m heapq\u001b[38;5;241m.\u001b[39mheappush(heap, \u001b[38;5;241m5\u001b[39m)\n\u001b[0;32m      3\u001b[0m heapq\u001b[38;5;241m.\u001b[39mheappush(heap, \u001b[38;5;241m6\u001b[39m)\n",
      "\u001b[1;31mTypeError\u001b[0m: '<' not supported between instances of 'int' and 'list'"
     ]
    }
   ],
   "source": [
    "heapq.heappush(heap, 3)\n",
    "heapq.heappush(heap, 5)\n",
    "heapq.heappush(heap, 6)\n",
    "heapq.heappush(heap, 1)"
   ]
  },
  {
   "cell_type": "code",
   "execution_count": 9,
   "id": "3a766b01-83c7-4f76-a4b5-e97c889720e5",
   "metadata": {},
   "outputs": [
    {
     "data": {
      "text/plain": [
       "[3]"
      ]
     },
     "execution_count": 9,
     "metadata": {},
     "output_type": "execute_result"
    }
   ],
   "source": [
    "heap"
   ]
  },
  {
   "cell_type": "code",
   "execution_count": null,
   "id": "74098e67-f0dc-4b43-8056-2d0e2d4c575a",
   "metadata": {},
   "outputs": [],
   "source": []
  }
 ],
 "metadata": {
  "kernelspec": {
   "display_name": "Python 3 (ipykernel)",
   "language": "python",
   "name": "python3"
  },
  "language_info": {
   "codemirror_mode": {
    "name": "ipython",
    "version": 3
   },
   "file_extension": ".py",
   "mimetype": "text/x-python",
   "name": "python",
   "nbconvert_exporter": "python",
   "pygments_lexer": "ipython3",
   "version": "3.10.11"
  }
 },
 "nbformat": 4,
 "nbformat_minor": 5
}
