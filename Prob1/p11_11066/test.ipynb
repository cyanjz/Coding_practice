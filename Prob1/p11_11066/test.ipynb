{
 "cells": [
  {
   "cell_type": "code",
   "execution_count": 2,
   "id": "cd1c0eda-34fd-40c3-908b-6cda6c092ab0",
   "metadata": {},
   "outputs": [
    {
     "data": {
      "text/plain": [
       "\u001b[1;31mSignature:\u001b[0m \u001b[0msorted\u001b[0m\u001b[1;33m(\u001b[0m\u001b[0miterable\u001b[0m\u001b[1;33m,\u001b[0m \u001b[1;33m/\u001b[0m\u001b[1;33m,\u001b[0m \u001b[1;33m*\u001b[0m\u001b[1;33m,\u001b[0m \u001b[0mkey\u001b[0m\u001b[1;33m=\u001b[0m\u001b[1;32mNone\u001b[0m\u001b[1;33m,\u001b[0m \u001b[0mreverse\u001b[0m\u001b[1;33m=\u001b[0m\u001b[1;32mFalse\u001b[0m\u001b[1;33m)\u001b[0m\u001b[1;33m\u001b[0m\u001b[1;33m\u001b[0m\u001b[0m\n",
       "\u001b[1;31mDocstring:\u001b[0m\n",
       "Return a new list containing all items from the iterable in ascending order.\n",
       "\n",
       "A custom key function can be supplied to customize the sort order, and the\n",
       "reverse flag can be set to request the result in descending order.\n",
       "\u001b[1;31mType:\u001b[0m      builtin_function_or_method\n"
      ]
     },
     "metadata": {},
     "output_type": "display_data"
    }
   ],
   "source": [
    "sorted?"
   ]
  },
  {
   "cell_type": "code",
   "execution_count": 22,
   "id": "cb59a406-4729-4ad7-a29d-85d02b1c0046",
   "metadata": {},
   "outputs": [],
   "source": [
    "a = [i if i < 5 else 10 for i in range(10)]"
   ]
  },
  {
   "cell_type": "code",
   "execution_count": 23,
   "id": "788f3c1b-a33e-4083-aea1-d87129381f00",
   "metadata": {},
   "outputs": [
    {
     "data": {
      "text/plain": [
       "[0, 1, 2, 3, 4, 10, 10, 10, 10, 10]"
      ]
     },
     "execution_count": 23,
     "metadata": {},
     "output_type": "execute_result"
    }
   ],
   "source": [
    "a"
   ]
  },
  {
   "cell_type": "code",
   "execution_count": 15,
   "id": "776d3a3c-d79b-4677-8219-77875c323630",
   "metadata": {},
   "outputs": [
    {
     "data": {
      "text/plain": [
       "[]"
      ]
     },
     "execution_count": 15,
     "metadata": {},
     "output_type": "execute_result"
    }
   ],
   "source": [
    "a[1:1]"
   ]
  },
  {
   "cell_type": "code",
   "execution_count": 16,
   "id": "17b3ffaf-8edd-4442-99d2-ace54bf23224",
   "metadata": {},
   "outputs": [
    {
     "data": {
      "text/plain": [
       "60"
      ]
     },
     "execution_count": 16,
     "metadata": {},
     "output_type": "execute_result"
    }
   ],
   "source": [
    "sum(a)"
   ]
  },
  {
   "cell_type": "code",
   "execution_count": 17,
   "id": "60d1be3c-d949-4fcc-96c4-140266d21496",
   "metadata": {},
   "outputs": [
    {
     "data": {
      "text/plain": [
       "3"
      ]
     },
     "execution_count": 17,
     "metadata": {},
     "output_type": "execute_result"
    }
   ],
   "source": [
    "sum(a[1:3])"
   ]
  },
  {
   "cell_type": "code",
   "execution_count": 18,
   "id": "6a3686df-73ec-44e0-b784-9c19ecd02c04",
   "metadata": {},
   "outputs": [
    {
     "data": {
      "text/plain": [
       "10"
      ]
     },
     "execution_count": 18,
     "metadata": {},
     "output_type": "execute_result"
    }
   ],
   "source": [
    "len(a)"
   ]
  },
  {
   "cell_type": "code",
   "execution_count": 20,
   "id": "d1d9b638-dda4-43f2-9eb8-5a5161b8b2aa",
   "metadata": {},
   "outputs": [
    {
     "data": {
      "text/plain": [
       "60"
      ]
     },
     "execution_count": 20,
     "metadata": {},
     "output_type": "execute_result"
    }
   ],
   "source": [
    "sum(a[:11])"
   ]
  },
  {
   "cell_type": "code",
   "execution_count": 24,
   "id": "56efd9c4-f122-4335-ace1-dd0dbda630ba",
   "metadata": {},
   "outputs": [
    {
     "data": {
      "text/plain": [
       "10"
      ]
     },
     "execution_count": 24,
     "metadata": {},
     "output_type": "execute_result"
    }
   ],
   "source": [
    "a[9]"
   ]
  },
  {
   "cell_type": "code",
   "execution_count": 28,
   "id": "7300427a-3541-4087-8fac-3ba928649ccf",
   "metadata": {},
   "outputs": [],
   "source": [
    "import random"
   ]
  },
  {
   "cell_type": "code",
   "execution_count": 31,
   "id": "cd0a7b9c-ec43-4e47-8b91-b7be1bb62a9d",
   "metadata": {},
   "outputs": [],
   "source": [
    "a = [random.randint(1, 10000) for _ in range(500)]"
   ]
  },
  {
   "cell_type": "code",
   "execution_count": 33,
   "id": "2d08e70c-de3e-4ee4-b160-9f12a1a554f9",
   "metadata": {},
   "outputs": [
    {
     "name": "stdout",
     "output_type": "stream",
     "text": [
      "4397 5999 1140 951 2766 5604 6681 2229 4037 2029 7341 843 9588 9344 51 5336 7765 5764 5320 8902 7205 3141 6654 2470 8198 769 7103 6797 6446 906 8097 5602 2291 9420 19 2085 7689 1647 4190 9801 6516 1880 3085 3648 6885 7942 7046 5096 4095 2945 4513 7408 121 2210 23 7468 3019 7247 9196 2735 1560 8566 3015 2137 6251 5823 8999 4526 6989 6696 3216 4427 9642 9966 1052 530 3020 7789 2939 1694 4089 8314 9331 5186 1119 5524 4683 4101 6905 5771 6012 673 520 4848 2841 9177 3960 7797 8715 2208 9550 3693 1761 4568 537 982 8328 592 3513 9743 2086 2318 1246 7788 7497 7951 1808 9791 5525 8362 9015 6309 1009 9728 2860 8218 6605 3027 468 906 7685 3403 9506 3637 7016 6292 3094 5173 7964 8634 3200 5371 8195 1564 3073 4447 2166 9310 2345 6874 4256 9225 1141 4168 5025 5583 4374 1888 7285 2318 9784 8347 8603 2983 6593 3057 2803 4145 7896 1346 4762 4109 2337 7110 4717 6732 2808 3348 9498 2177 8862 7653 7800 2222 9939 5905 3958 5793 9645 8867 4104 5334 2771 6274 5394 2992 6732 3504 6786 2592 5390 4159 3902 3060 2477 5555 6693 7240 1716 3801 4918 3810 2586 1737 4828 3106 54 5344 7076 3329 8483 231 5712 675 9253 1105 6494 763 8924 8933 463 6092 4794 7366 4717 4751 9384 834 6875 4695 7256 3200 7577 3533 8578 2374 2548 7810 8349 3294 7006 3788 45 6123 2819 4065 9070 7367 1664 8052 6757 6395 4056 1341 9854 8406 2415 3322 3818 2285 1808 9717 411 8700 8090 3763 3240 4075 2754 7593 3810 1669 221 3537 6679 8671 6605 7602 2442 4974 104 9618 3502 9121 8529 2244 618 3667 265 3043 3028 2769 7229 4584 6666 2303 5171 7438 5172 394 7761 741 5953 1712 4210 8476 429 5114 307 1033 1067 7877 5632 6279 7931 8712 9217 2585 5187 7422 9341 6820 313 7741 8024 7068 6007 7709 4861 1454 7966 2759 8205 1816 694 6161 2159 3956 9975 6671 7984 5619 280 1926 5227 6226 4070 1770 3032 4688 3501 8761 7935 4919 8218 5698 9742 1845 5022 6778 5371 8343 7051 9140 9919 7900 8102 7076 5971 7269 1211 6211 3417 7277 6188 6421 6104 4290 5666 2546 4717 5881 1977 9776 9380 8664 3411 7248 8943 5915 9365 5830 4795 202 6469 9611 9719 5040 6568 7018 3312 9133 5065 4593 9153 2981 3687 3244 3872 6944 1764 8580 4760 2547 3594 1855 5840 2363 9622 2991 6396 8709 7276 8404 8761 7477 8644 2398 8349 5447 8747 7889 8511 6426 6979 1380 4829 1361 3968 8791 5602 9660 6240 6288 4189 5468 8070 1202 6925 3576 1734 1391 4312 5750 4779 3567 472 6913 3707 7060 5927 1082 8877 3528 4672 471 4612 9999 4562 2250 1218 9045 3348 5742 5809 1337 3697 4908 6697 2064 9174 4849 8857 3529 6520 5868 4170 755 2185 4012\n"
     ]
    }
   ],
   "source": [
    "print(' '.join(f'{x}' for x in a))"
   ]
  },
  {
   "cell_type": "code",
   "execution_count": 34,
   "id": "ac33f3eb-3596-4f36-9ab0-f74b0a8afd73",
   "metadata": {},
   "outputs": [],
   "source": [
    "a = [1724478712.5610542, 1724478712.562051, 1724478712.7880504, 1724478716.9765596, 1724478716.9765596]"
   ]
  },
  {
   "cell_type": "code",
   "execution_count": 36,
   "id": "3edcaefc-3705-4995-a2f8-d71dd9f426d2",
   "metadata": {},
   "outputs": [
    {
     "name": "stdout",
     "output_type": "stream",
     "text": [
      "0.0009968280792236328\n",
      "0.2259993553161621\n",
      "4.188509225845337\n",
      "0.0\n"
     ]
    }
   ],
   "source": [
    "for i in range(4):\n",
    "    print(a[i+1] - a[i])"
   ]
  },
  {
   "cell_type": "code",
   "execution_count": 38,
   "id": "98d9613c-1b72-43cb-a9d2-9d64da272e3a",
   "metadata": {},
   "outputs": [
    {
     "ename": "SyntaxError",
     "evalue": "invalid syntax (2685085644.py, line 1)",
     "output_type": "error",
     "traceback": [
      "\u001b[1;36m  Cell \u001b[1;32mIn[38], line 1\u001b[1;36m\u001b[0m\n\u001b[1;33m    nonlocal\u001b[0m\n\u001b[1;37m            ^\u001b[0m\n\u001b[1;31mSyntaxError\u001b[0m\u001b[1;31m:\u001b[0m invalid syntax\n"
     ]
    }
   ],
   "source": [
    "nonlocal"
   ]
  },
  {
   "cell_type": "code",
   "execution_count": 39,
   "id": "79a04efe-e32c-4b0a-9b7c-7fb25a47261e",
   "metadata": {},
   "outputs": [
    {
     "data": {
      "text/plain": [
       "1000000000"
      ]
     },
     "execution_count": 39,
     "metadata": {},
     "output_type": "execute_result"
    }
   ],
   "source": [
    "1_000_000_000"
   ]
  },
  {
   "cell_type": "code",
   "execution_count": 40,
   "id": "31b26468-b945-45fc-909a-2a7754fe68dc",
   "metadata": {},
   "outputs": [
    {
     "data": {
      "text/plain": [
       "[1, 2, 0, 0, 0]"
      ]
     },
     "execution_count": 40,
     "metadata": {},
     "output_type": "execute_result"
    }
   ],
   "source": [
    "[1, 2] + [0] * 3"
   ]
  },
  {
   "cell_type": "code",
   "execution_count": null,
   "id": "a20af74b-a1c9-40e5-86f7-dacbe04d1e04",
   "metadata": {},
   "outputs": [],
   "source": []
  }
 ],
 "metadata": {
  "kernelspec": {
   "display_name": "Python 3 (ipykernel)",
   "language": "python",
   "name": "python3"
  },
  "language_info": {
   "codemirror_mode": {
    "name": "ipython",
    "version": 3
   },
   "file_extension": ".py",
   "mimetype": "text/x-python",
   "name": "python",
   "nbconvert_exporter": "python",
   "pygments_lexer": "ipython3",
   "version": "3.10.11"
  }
 },
 "nbformat": 4,
 "nbformat_minor": 5
}
