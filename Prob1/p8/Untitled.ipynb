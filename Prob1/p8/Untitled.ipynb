{
 "cells": [
  {
   "cell_type": "code",
   "execution_count": 3,
   "id": "c702b89a-e6d1-4413-9157-3e4f23252b7c",
   "metadata": {},
   "outputs": [],
   "source": [
    "a = [[1] * 3] + [[3, 4, 5]]"
   ]
  },
  {
   "cell_type": "code",
   "execution_count": 4,
   "id": "658ac221-8fd4-4dc1-b90a-edb1faa6280c",
   "metadata": {},
   "outputs": [],
   "source": [
    "a[0][0] = 100"
   ]
  },
  {
   "cell_type": "code",
   "execution_count": 5,
   "id": "aa7200e3-107e-4f9a-9b7c-576f4696b965",
   "metadata": {},
   "outputs": [
    {
     "data": {
      "text/plain": [
       "[[100, 1, 1], [3, 4, 5]]"
      ]
     },
     "execution_count": 5,
     "metadata": {},
     "output_type": "execute_result"
    }
   ],
   "source": [
    "a"
   ]
  },
  {
   "cell_type": "code",
   "execution_count": 6,
   "id": "fd4fde90-66cc-4306-838b-8cc54ab70479",
   "metadata": {},
   "outputs": [],
   "source": [
    "a = ['1', '2', '3']"
   ]
  },
  {
   "cell_type": "code",
   "execution_count": 7,
   "id": "35a3385e-0b36-4d7d-9dc0-b61985c4c461",
   "metadata": {},
   "outputs": [
    {
     "data": {
      "text/plain": [
       "'123'"
      ]
     },
     "execution_count": 7,
     "metadata": {},
     "output_type": "execute_result"
    }
   ],
   "source": [
    "''.join(a)"
   ]
  },
  {
   "cell_type": "code",
   "execution_count": 8,
   "id": "c8a0119d-e351-421d-b052-d946d4719a79",
   "metadata": {},
   "outputs": [],
   "source": [
    "from collections import deque"
   ]
  },
  {
   "cell_type": "code",
   "execution_count": 9,
   "id": "efc26d73-a3b4-4f42-b047-5689e779519c",
   "metadata": {},
   "outputs": [],
   "source": [
    "a = deque([1, 2, 3])"
   ]
  },
  {
   "cell_type": "code",
   "execution_count": 10,
   "id": "cd893164-1cce-4bd9-a684-5821145f0f21",
   "metadata": {},
   "outputs": [
    {
     "data": {
      "text/plain": [
       "1"
      ]
     },
     "execution_count": 10,
     "metadata": {},
     "output_type": "execute_result"
    }
   ],
   "source": [
    "a.popleft()"
   ]
  },
  {
   "cell_type": "code",
   "execution_count": 11,
   "id": "38c14790-5057-4082-a242-bb87bd6fc355",
   "metadata": {},
   "outputs": [
    {
     "data": {
      "text/plain": [
       "deque([2, 3])"
      ]
     },
     "execution_count": 11,
     "metadata": {},
     "output_type": "execute_result"
    }
   ],
   "source": [
    "a"
   ]
  },
  {
   "cell_type": "code",
   "execution_count": 12,
   "id": "683e7f37-421c-4f70-9869-234cf65bdf36",
   "metadata": {},
   "outputs": [],
   "source": [
    "a.appendleft(1)"
   ]
  },
  {
   "cell_type": "code",
   "execution_count": 13,
   "id": "a948c010-67fe-4fea-b1a3-4d6f245d0cd5",
   "metadata": {},
   "outputs": [
    {
     "data": {
      "text/plain": [
       "deque([1, 2, 3])"
      ]
     },
     "execution_count": 13,
     "metadata": {},
     "output_type": "execute_result"
    }
   ],
   "source": [
    "a"
   ]
  },
  {
   "cell_type": "code",
   "execution_count": null,
   "id": "72a59908-d046-4106-89d0-3bb394ca8101",
   "metadata": {},
   "outputs": [],
   "source": []
  }
 ],
 "metadata": {
  "kernelspec": {
   "display_name": "Python 3 (ipykernel)",
   "language": "python",
   "name": "python3"
  },
  "language_info": {
   "codemirror_mode": {
    "name": "ipython",
    "version": 3
   },
   "file_extension": ".py",
   "mimetype": "text/x-python",
   "name": "python",
   "nbconvert_exporter": "python",
   "pygments_lexer": "ipython3",
   "version": "3.10.11"
  }
 },
 "nbformat": 4,
 "nbformat_minor": 5
}
