{
 "cells": [
  {
   "cell_type": "code",
   "execution_count": 1,
   "id": "7bd50580-3f63-4db9-ad4c-3bd7fc689455",
   "metadata": {},
   "outputs": [
    {
     "name": "stdout",
     "output_type": "stream",
     "text": [
      "(1, 4, 7)\n",
      "(2, 5, 8)\n",
      "(3, 6, 9)\n"
     ]
    }
   ],
   "source": [
    "a = [[1, 2, 3], [4, 5, 6], [7, 8, 9]]\n",
    "for _ in zip(*a):\n",
    "    print(_)"
   ]
  },
  {
   "cell_type": "code",
   "execution_count": 1,
   "id": "77b9b944-9385-4e6a-95c1-a439c64e9931",
   "metadata": {},
   "outputs": [],
   "source": [
    "from p5 import mat_mul"
   ]
  },
  {
   "cell_type": "code",
   "execution_count": 2,
   "id": "c0dde385-702f-4dfd-9054-4b72edb1da63",
   "metadata": {},
   "outputs": [
    {
     "data": {
      "text/plain": [
       "[[199, 290], [435, 634]]"
      ]
     },
     "execution_count": 2,
     "metadata": {},
     "output_type": "execute_result"
    }
   ],
   "source": [
    "mat_mul([[7, 10], [15, 22]], [[7, 10], [15, 22]])\n",
    "# A ** 4"
   ]
  },
  {
   "cell_type": "code",
   "execution_count": 3,
   "id": "56cd097c-013f-4a34-a350-513f44490600",
   "metadata": {},
   "outputs": [
    {
     "data": {
      "text/plain": [
       "[[7, 10], [15, 22]]"
      ]
     },
     "execution_count": 3,
     "metadata": {},
     "output_type": "execute_result"
    }
   ],
   "source": [
    "mat_mul([[1, 2], [3, 4]], [[1, 2], [3, 4]])\n",
    "# A**2"
   ]
  },
  {
   "cell_type": "code",
   "execution_count": 4,
   "id": "e6c57f35-768f-4fce-a373-794472171d4d",
   "metadata": {},
   "outputs": [
    {
     "data": {
      "text/plain": [
       "[[69, 558], [337, 406]]"
      ]
     },
     "execution_count": 4,
     "metadata": {},
     "output_type": "execute_result"
    }
   ],
   "source": [
    "mat_mul([[199, 290], [435, 634]], [[1, 2], [3, 4]])"
   ]
  },
  {
   "cell_type": "code",
   "execution_count": null,
   "id": "58554fb6-e1c8-431c-8989-ba398b3fcd14",
   "metadata": {},
   "outputs": [],
   "source": []
  }
 ],
 "metadata": {
  "kernelspec": {
   "display_name": "Python 3 (ipykernel)",
   "language": "python",
   "name": "python3"
  },
  "language_info": {
   "codemirror_mode": {
    "name": "ipython",
    "version": 3
   },
   "file_extension": ".py",
   "mimetype": "text/x-python",
   "name": "python",
   "nbconvert_exporter": "python",
   "pygments_lexer": "ipython3",
   "version": "3.10.11"
  }
 },
 "nbformat": 4,
 "nbformat_minor": 5
}
